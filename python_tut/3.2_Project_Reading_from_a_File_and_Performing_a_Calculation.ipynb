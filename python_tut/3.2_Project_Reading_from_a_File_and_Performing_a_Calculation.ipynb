{
 "cells": [
  {
   "cell_type": "code",
   "execution_count": 1,
   "metadata": {},
   "outputs": [
    {
     "name": "stdout",
     "output_type": "stream",
     "text": [
      "name,date,shares,price\r\n",
      "\"AA\",\"2007-06-11\",100,32.20\r\n",
      "\"IBM\",\"2007-06-11\",50,91.10\r\n",
      "\"CAT\",\"2007-06-11\",150,83.44\r\n",
      "\"MSFT\",\"2007-06-11\",200,51.23\r\n",
      "\"GE\",\"2007-06-11\",95,40.37\r\n",
      "\"MSFT\",\"2007-06-11\",50,65.10\r\n",
      "\"IBM\",\"2007-06-11\",100,70.44\r\n"
     ]
    }
   ],
   "source": [
    "!cat Data/porfolio.csv"
   ]
  },
  {
   "cell_type": "code",
   "execution_count": 2,
   "metadata": {},
   "outputs": [
    {
     "name": "stdout",
     "output_type": "stream",
     "text": [
      "# port.py\r\n",
      "\r\n",
      "f = open('Data/portfolio.csv', 'r')\r\n",
      "for line in f:\r\n",
      "    print(line)\r\n"
     ]
    }
   ],
   "source": [
    "!cat port.py"
   ]
  },
  {
   "cell_type": "code",
   "execution_count": 4,
   "metadata": {},
   "outputs": [
    {
     "name": "stdout",
     "output_type": "stream",
     "text": [
      "name,date,shares,price\r\n",
      "\r\n",
      "\"AA\",\"2007-06-11\",100,32.20\r\n",
      "\r\n",
      "\"IBM\",\"2007-06-11\",50,91.10\r\n",
      "\r\n",
      "\"CAT\",\"2007-06-11\",150,83.44\r\n",
      "\r\n",
      "\"MSFT\",\"2007-06-11\",200,51.23\r\n",
      "\r\n",
      "\"GE\",\"2007-06-11\",95,40.37\r\n",
      "\r\n",
      "\"MSFT\",\"2007-06-11\",50,65.10\r\n",
      "\r\n",
      "\"IBM\",\"2007-06-11\",100,70.44\r\n",
      "\r\n"
     ]
    }
   ],
   "source": [
    "!python port.py"
   ]
  },
  {
   "cell_type": "markdown",
   "metadata": {},
   "source": [
    "- open ... close using with\n",
    "- sanitize the rows"
   ]
  },
  {
   "cell_type": "code",
   "execution_count": 5,
   "metadata": {},
   "outputs": [
    {
     "name": "stdout",
     "output_type": "stream",
     "text": [
      "# port.py\r\n",
      "\r\n",
      "with open('Data/portfolio.csv', 'r') as f:\r\n",
      "    for line in f:\r\n",
      "        line = line.strip()     # Strip whitespace\r\n",
      "        parts = line.split(',')\r\n",
      "        print(parts)\r\n"
     ]
    }
   ],
   "source": [
    "!cat port.py"
   ]
  },
  {
   "cell_type": "code",
   "execution_count": 6,
   "metadata": {},
   "outputs": [
    {
     "name": "stdout",
     "output_type": "stream",
     "text": [
      "['name', 'date', 'shares', 'price']\r\n",
      "['\"AA\"', '\"2007-06-11\"', '100', '32.20']\r\n",
      "['\"IBM\"', '\"2007-06-11\"', '50', '91.10']\r\n",
      "['\"CAT\"', '\"2007-06-11\"', '150', '83.44']\r\n",
      "['\"MSFT\"', '\"2007-06-11\"', '200', '51.23']\r\n",
      "['\"GE\"', '\"2007-06-11\"', '95', '40.37']\r\n",
      "['\"MSFT\"', '\"2007-06-11\"', '50', '65.10']\r\n",
      "['\"IBM\"', '\"2007-06-11\"', '100', '70.44']\r\n"
     ]
    }
   ],
   "source": [
    "!python port.py"
   ]
  },
  {
   "cell_type": "markdown",
   "metadata": {},
   "source": [
    "- sanitize data"
   ]
  },
  {
   "cell_type": "code",
   "execution_count": 7,
   "metadata": {},
   "outputs": [
    {
     "name": "stdout",
     "output_type": "stream",
     "text": [
      "# port.py\r\n",
      "\r\n",
      "with open('Data/portfolio.csv', 'r') as f:\r\n",
      "    for line in f:\r\n",
      "        line = line.strip()     # Strip whitespace\r\n",
      "        parts = line.split(',')\r\n",
      "        parts[0] = parts[0].strip('\"')\r\n",
      "        parts[1] = parts[1].strip('\"')\r\n",
      "        parts[2] = int(parts[2])\r\n",
      "        parts[3] = float(parts[3])\r\n",
      "        print(parts)\r\n"
     ]
    }
   ],
   "source": [
    "!cat port.py"
   ]
  },
  {
   "cell_type": "code",
   "execution_count": 8,
   "metadata": {},
   "outputs": [
    {
     "name": "stdout",
     "output_type": "stream",
     "text": [
      "Traceback (most recent call last):\r\n",
      "  File \"port.py\", line 9, in <module>\r\n",
      "    parts[2] = int(parts[2])\r\n",
      "ValueError: invalid literal for int() with base 10: 'shares'\r\n"
     ]
    }
   ],
   "source": [
    "!python port.py"
   ]
  },
  {
   "cell_type": "markdown",
   "metadata": {},
   "source": [
    "## fix the shares being cast to int by skipping the first line"
   ]
  },
  {
   "cell_type": "code",
   "execution_count": 10,
   "metadata": {},
   "outputs": [
    {
     "name": "stdout",
     "output_type": "stream",
     "text": [
      "# port.py\r\n",
      "\r\n",
      "with open('Data/portfolio.csv', 'r') as f:\r\n",
      "    headers = next(f)\r\n",
      "    for line in f:\r\n",
      "        line = line.strip()     # Strip whitespace\r\n",
      "        parts = line.split(',')\r\n",
      "        parts[0] = parts[0].strip('\"')\r\n",
      "        parts[1] = parts[1].strip('\"')\r\n",
      "        parts[2] = int(parts[2])\r\n",
      "        parts[3] = float(parts[3])\r\n",
      "        print(parts)\r\n"
     ]
    }
   ],
   "source": [
    "!cat port.py"
   ]
  },
  {
   "cell_type": "code",
   "execution_count": 11,
   "metadata": {},
   "outputs": [
    {
     "name": "stdout",
     "output_type": "stream",
     "text": [
      "['AA', '2007-06-11', 100, 32.2]\r\n",
      "['IBM', '2007-06-11', 50, 91.1]\r\n",
      "['CAT', '2007-06-11', 150, 83.44]\r\n",
      "['MSFT', '2007-06-11', 200, 51.23]\r\n",
      "['GE', '2007-06-11', 95, 40.37]\r\n",
      "['MSFT', '2007-06-11', 50, 65.1]\r\n",
      "['IBM', '2007-06-11', 100, 70.44]\r\n"
     ]
    }
   ],
   "source": [
    "!python port.py"
   ]
  },
  {
   "cell_type": "markdown",
   "metadata": {},
   "source": [
    "## do calculation, find total of shares * price"
   ]
  },
  {
   "cell_type": "code",
   "execution_count": 12,
   "metadata": {},
   "outputs": [
    {
     "name": "stdout",
     "output_type": "stream",
     "text": [
      "# port.py\r\n",
      "\r\n",
      "total = 0.0\r\n",
      "\r\n",
      "with open('Data/portfolio.csv', 'r') as f:\r\n",
      "    headers = next(f)\r\n",
      "    for line in f:\r\n",
      "        line = line.strip()     # Strip whitespace\r\n",
      "        parts = line.split(',')\r\n",
      "        parts[0] = parts[0].strip('\"')\r\n",
      "        parts[1] = parts[1].strip('\"')\r\n",
      "        parts[2] = int(parts[2])\r\n",
      "        parts[3] = float(parts[3])\r\n",
      "        total += parts[2]*parts[3]\r\n",
      "\r\n",
      "print('Total cost:', total)\r\n"
     ]
    }
   ],
   "source": [
    "!cat port.py"
   ]
  },
  {
   "cell_type": "code",
   "execution_count": 13,
   "metadata": {},
   "outputs": [
    {
     "name": "stdout",
     "output_type": "stream",
     "text": [
      "Total cost: 44671.15\r\n"
     ]
    }
   ],
   "source": [
    "!python port.py"
   ]
  },
  {
   "cell_type": "code",
   "execution_count": null,
   "metadata": {},
   "outputs": [],
   "source": []
  }
 ],
 "metadata": {
  "kernelspec": {
   "display_name": "Python 3",
   "language": "python",
   "name": "python3"
  },
  "language_info": {
   "codemirror_mode": {
    "name": "ipython",
    "version": 3
   },
   "file_extension": ".py",
   "mimetype": "text/x-python",
   "name": "python",
   "nbconvert_exporter": "python",
   "pygments_lexer": "ipython3",
   "version": "3.7.5"
  }
 },
 "nbformat": 4,
 "nbformat_minor": 2
}
