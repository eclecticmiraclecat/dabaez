{
 "cells": [
  {
   "cell_type": "code",
   "execution_count": 1,
   "metadata": {},
   "outputs": [
    {
     "name": "stdout",
     "output_type": "stream",
     "text": [
      "# port.py\r\n",
      "\r\n",
      "total = 0.0\r\n",
      "\r\n",
      "with open('Data/portfolio2.csv', 'r') as f:\r\n",
      "    headers = next(f)\r\n",
      "    for line in f:\r\n",
      "        line = line.strip()     # Strip whitespace\r\n",
      "        parts = line.split(',')\r\n",
      "        parts[0] = parts[0].strip('\"')\r\n",
      "        parts[1] = parts[1].strip('\"')\r\n",
      "        parts[2] = int(parts[2])\r\n",
      "        parts[3] = float(parts[3])\r\n",
      "        total += parts[2]*parts[3]\r\n",
      "\r\n",
      "print('Total cost:', total)\r\n"
     ]
    }
   ],
   "source": [
    "!cat port.py"
   ]
  },
  {
   "cell_type": "code",
   "execution_count": 2,
   "metadata": {},
   "outputs": [
    {
     "name": "stdout",
     "output_type": "stream",
     "text": [
      "Traceback (most recent call last):\r\n",
      "  File \"port.py\", line 12, in <module>\r\n",
      "    parts[2] = int(parts[2])\r\n",
      "ValueError: invalid literal for int() with base 10: ' 2007\"'\r\n"
     ]
    }
   ],
   "source": [
    "!python port.py"
   ]
  },
  {
   "cell_type": "markdown",
   "metadata": {},
   "source": [
    "## failed because splitting on ','"
   ]
  },
  {
   "cell_type": "code",
   "execution_count": 3,
   "metadata": {},
   "outputs": [
    {
     "name": "stdout",
     "output_type": "stream",
     "text": [
      "name,date,shares,price\r\n",
      "\"AA\",\"June 11, 2007\",100,32.20\r\n",
      "\"IBM\",\"June 11, 2007\",50,91.10\r\n",
      "\"CAT\",\"June 11, 2007\",150,83.44\r\n",
      "\"MSFT\",\"June 11, 2007\",200,51.23\r\n",
      "\"GE\",\"June 11, 2007\",95,40.37\r\n",
      "\"MSFT\",\"June 11, 2007\",50,65.10\r\n",
      "\"IBM\",\"June 11, 2007\",100,70.44\r\n"
     ]
    }
   ],
   "source": [
    "!cat Data/portfolio2.csv"
   ]
  },
  {
   "cell_type": "markdown",
   "metadata": {},
   "source": [
    "## use library to cleanup the data properly"
   ]
  },
  {
   "cell_type": "code",
   "execution_count": 4,
   "metadata": {},
   "outputs": [],
   "source": [
    "import csv"
   ]
  },
  {
   "cell_type": "code",
   "execution_count": 5,
   "metadata": {},
   "outputs": [],
   "source": [
    "f = open('Data/portfolio.csv', 'r')"
   ]
  },
  {
   "cell_type": "code",
   "execution_count": 6,
   "metadata": {},
   "outputs": [],
   "source": [
    "rows = csv.reader(f)"
   ]
  },
  {
   "cell_type": "code",
   "execution_count": 7,
   "metadata": {},
   "outputs": [
    {
     "name": "stdout",
     "output_type": "stream",
     "text": [
      "['name', 'date', 'shares', 'price']\n",
      "['AA', '2007-06-11', '100', '32.20']\n",
      "['IBM', '2007-06-11', '50', '91.10']\n",
      "['CAT', '2007-06-11', '150', '83.44']\n",
      "['MSFT', '2007-06-11', '200', '51.23']\n",
      "['GE', '2007-06-11', '95', '40.37']\n",
      "['MSFT', '2007-06-11', '50', '65.10']\n",
      "['IBM', '2007-06-11', '100', '70.44']\n"
     ]
    }
   ],
   "source": [
    "for row in rows:\n",
    "    print(row)"
   ]
  },
  {
   "cell_type": "code",
   "execution_count": 8,
   "metadata": {},
   "outputs": [],
   "source": [
    "f = open('Data/portfolio2.csv', 'r')"
   ]
  },
  {
   "cell_type": "code",
   "execution_count": 9,
   "metadata": {},
   "outputs": [],
   "source": [
    "rows = csv.reader(f)"
   ]
  },
  {
   "cell_type": "code",
   "execution_count": 10,
   "metadata": {},
   "outputs": [
    {
     "name": "stdout",
     "output_type": "stream",
     "text": [
      "['name', 'date', 'shares', 'price']\n",
      "['AA', 'June 11, 2007', '100', '32.20']\n",
      "['IBM', 'June 11, 2007', '50', '91.10']\n",
      "['CAT', 'June 11, 2007', '150', '83.44']\n",
      "['MSFT', 'June 11, 2007', '200', '51.23']\n",
      "['GE', 'June 11, 2007', '95', '40.37']\n",
      "['MSFT', 'June 11, 2007', '50', '65.10']\n",
      "['IBM', 'June 11, 2007', '100', '70.44']\n"
     ]
    }
   ],
   "source": [
    "for row in rows:\n",
    "    print(row)"
   ]
  },
  {
   "cell_type": "markdown",
   "metadata": {},
   "source": [
    "## improve port by using csv module"
   ]
  },
  {
   "cell_type": "code",
   "execution_count": 11,
   "metadata": {},
   "outputs": [
    {
     "name": "stdout",
     "output_type": "stream",
     "text": [
      "# port.py\r\n",
      "\r\n",
      "import csv\r\n",
      "\r\n",
      "total = 0.0\r\n",
      "\r\n",
      "with open('Data/portfolio2.csv', 'r') as f:\r\n",
      "    rows = csv.reader(f)\r\n",
      "    headers = next(rows)        # Skip the header row\r\n",
      "    for row in rows:\r\n",
      "        row[2] = int(row[2])\r\n",
      "        row[3] = float(row[3])\r\n",
      "        total += row[2]*row[3]\r\n",
      "\r\n",
      "print('Total cost:', total)\r\n"
     ]
    }
   ],
   "source": [
    "!cat port.py"
   ]
  },
  {
   "cell_type": "code",
   "execution_count": 12,
   "metadata": {},
   "outputs": [
    {
     "name": "stdout",
     "output_type": "stream",
     "text": [
      "Total cost: 44671.15\r\n"
     ]
    }
   ],
   "source": [
    "!python port.py"
   ]
  },
  {
   "cell_type": "code",
   "execution_count": null,
   "metadata": {},
   "outputs": [],
   "source": []
  }
 ],
 "metadata": {
  "kernelspec": {
   "display_name": "Python 3",
   "language": "python",
   "name": "python3"
  },
  "language_info": {
   "codemirror_mode": {
    "name": "ipython",
    "version": 3
   },
   "file_extension": ".py",
   "mimetype": "text/x-python",
   "name": "python",
   "nbconvert_exporter": "python",
   "pygments_lexer": "ipython3",
   "version": "3.7.5"
  }
 },
 "nbformat": 4,
 "nbformat_minor": 2
}
