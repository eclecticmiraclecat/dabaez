{
 "cells": [
  {
   "cell_type": "code",
   "execution_count": 2,
   "metadata": {},
   "outputs": [],
   "source": [
    "def print_word(word, formatter):  \n",
    "    if not isinstance(formatter, WordFormatter):\n",
    "        raise TypeError('formatter must be a WordFormatter')\n",
    "        \n",
    "    formatter.headings(word)\n",
    "\n",
    "class WordFormatter:\n",
    "    def headings(self, word):\n",
    "        raise NotImplemented\n",
    "    \n",
    "class UpperWordFormatter(WordFormatter):\n",
    "    def headings(self, word):\n",
    "        print(f'{word.upper()}')\n",
    "        \n",
    "class HTMLWordFormatter(WordFormatter):\n",
    "    def headings(self, word):\n",
    "        print(f'<html>{word}</html>')\n",
    "        \n",
    "class CSVWordFormatter(WordFormatter):\n",
    "    def headings(self, word):\n",
    "        print(f',{word},')"
   ]
  },
  {
   "cell_type": "code",
   "execution_count": 3,
   "metadata": {},
   "outputs": [],
   "source": [
    "formatter = UpperWordFormatter()"
   ]
  },
  {
   "cell_type": "code",
   "execution_count": 4,
   "metadata": {},
   "outputs": [
    {
     "name": "stdout",
     "output_type": "stream",
     "text": [
      "HI\n"
     ]
    }
   ],
   "source": [
    "print_word('hi', formatter)"
   ]
  },
  {
   "cell_type": "markdown",
   "metadata": {},
   "source": [
    "## Add quotes \n",
    "- ### QuotedTextFormatter is tightly coupled to UpperWordFormatter only"
   ]
  },
  {
   "cell_type": "code",
   "execution_count": 10,
   "metadata": {},
   "outputs": [],
   "source": [
    "class QuotedTextFormatter(UpperWordFormatter):\n",
    "    def headings(self, word):\n",
    "        quoted = f'\"{word}\"'\n",
    "        super().headings(quoted)"
   ]
  },
  {
   "cell_type": "code",
   "execution_count": 11,
   "metadata": {},
   "outputs": [],
   "source": [
    "formatter = QuotedTextFormatter()"
   ]
  },
  {
   "cell_type": "code",
   "execution_count": 12,
   "metadata": {},
   "outputs": [
    {
     "name": "stdout",
     "output_type": "stream",
     "text": [
      "\"HI\"\n"
     ]
    }
   ],
   "source": [
    "print_word('hi', formatter)"
   ]
  },
  {
   "cell_type": "markdown",
   "metadata": {},
   "source": [
    "- ### solve using QuotedMixin so other formatters can access them"
   ]
  },
  {
   "cell_type": "code",
   "execution_count": 13,
   "metadata": {},
   "outputs": [],
   "source": [
    "class QuotedMixin:\n",
    "    def headings(self, word):\n",
    "        quoted = f'\"{word}\"'\n",
    "        super().headings(quoted)"
   ]
  },
  {
   "cell_type": "markdown",
   "metadata": {},
   "source": [
    "## Mixin class are used in multiple inheritance"
   ]
  },
  {
   "cell_type": "code",
   "execution_count": 14,
   "metadata": {},
   "outputs": [],
   "source": [
    "class Formatter(QuotedMixin, UpperWordFormatter):\n",
    "    pass"
   ]
  },
  {
   "cell_type": "code",
   "execution_count": 15,
   "metadata": {},
   "outputs": [],
   "source": [
    "formatter = Formatter()"
   ]
  },
  {
   "cell_type": "code",
   "execution_count": 16,
   "metadata": {},
   "outputs": [
    {
     "name": "stdout",
     "output_type": "stream",
     "text": [
      "\"HI\"\n"
     ]
    }
   ],
   "source": [
    "print_word('hi', formatter)"
   ]
  },
  {
   "cell_type": "code",
   "execution_count": 17,
   "metadata": {},
   "outputs": [],
   "source": [
    "class Formatter(QuotedMixin, HTMLWordFormatter):\n",
    "    pass"
   ]
  },
  {
   "cell_type": "code",
   "execution_count": 18,
   "metadata": {},
   "outputs": [],
   "source": [
    "formatter = Formatter()"
   ]
  },
  {
   "cell_type": "code",
   "execution_count": 19,
   "metadata": {},
   "outputs": [
    {
     "name": "stdout",
     "output_type": "stream",
     "text": [
      "<html>\"hi\"</html>\n"
     ]
    }
   ],
   "source": [
    "print_word('hi', formatter)"
   ]
  },
  {
   "cell_type": "code",
   "execution_count": null,
   "metadata": {},
   "outputs": [],
   "source": []
  }
 ],
 "metadata": {
  "kernelspec": {
   "display_name": "Python 3",
   "language": "python",
   "name": "python3"
  },
  "language_info": {
   "codemirror_mode": {
    "name": "ipython",
    "version": 3
   },
   "file_extension": ".py",
   "mimetype": "text/x-python",
   "name": "python",
   "nbconvert_exporter": "python",
   "pygments_lexer": "ipython3",
   "version": "3.7.5"
  }
 },
 "nbformat": 4,
 "nbformat_minor": 2
}
