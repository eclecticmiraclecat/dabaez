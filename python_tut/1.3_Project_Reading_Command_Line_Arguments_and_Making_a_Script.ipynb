{
 "cells": [
  {
   "cell_type": "markdown",
   "metadata": {},
   "source": [
    "### print command line arguments"
   ]
  },
  {
   "cell_type": "code",
   "execution_count": 2,
   "metadata": {},
   "outputs": [
    {
     "name": "stdout",
     "output_type": "stream",
     "text": [
      "# nextbus.py\r\n",
      "\r\n",
      "import sys\r\n",
      "\r\n",
      "print('Command options:', sys.argv)\r\n",
      "raise SystemExit(0)\r\n",
      "\r\n",
      "import urllib.request\r\n",
      "\r\n",
      "u = urllib.request.urlopen('http://ctabustracker.com/bustime/map/getStopPredictions.jsp?stop=14787&route=22')\r\n",
      "data = u.read()\r\n",
      "\r\n",
      "from xml.etree.ElementTree import XML\r\n",
      "doc = XML(data)\r\n",
      "\r\n",
      "for pt in doc.findall('.//pt'):\r\n",
      "    print(pt.text)\r\n"
     ]
    }
   ],
   "source": [
    "!cat nextbus.py"
   ]
  },
  {
   "cell_type": "code",
   "execution_count": 3,
   "metadata": {},
   "outputs": [
    {
     "name": "stdout",
     "output_type": "stream",
     "text": [
      "Command options: ['nextbus.py', '22', '14787']\r\n"
     ]
    }
   ],
   "source": [
    "!python nextbus.py 22 14787"
   ]
  },
  {
   "cell_type": "markdown",
   "metadata": {},
   "source": [
    "### accept command line arguments"
   ]
  },
  {
   "cell_type": "code",
   "execution_count": 4,
   "metadata": {},
   "outputs": [
    {
     "name": "stdout",
     "output_type": "stream",
     "text": [
      "# nextbus.py\r\n",
      "\r\n",
      "import sys\r\n",
      "\r\n",
      "if len(sys.argv) != 3:\r\n",
      "    raise SystemExit('Usage: nextbus.py route stopid')\r\n",
      "\r\n",
      "route = sys.argv[1]\r\n",
      "stopid = sys.argv[2]\r\n",
      "\r\n",
      "import urllib.request\r\n",
      "\r\n",
      "u = urllib.request.urlopen(f'http://ctabustracker.com/bustime/map/getStopPredictions.jsp?stop={stopid}&route={route}')\r\n",
      "data = u.read()\r\n",
      "\r\n",
      "from xml.etree.ElementTree import XML\r\n",
      "doc = XML(data)\r\n",
      "\r\n",
      "for pt in doc.findall('.//pt'):\r\n",
      "    print(pt.text)\r\n"
     ]
    }
   ],
   "source": [
    "!cat nextbus.py"
   ]
  },
  {
   "cell_type": "code",
   "execution_count": 6,
   "metadata": {},
   "outputs": [
    {
     "name": "stdout",
     "output_type": "stream",
     "text": [
      "5 MIN\r\n",
      "27 MIN\r\n"
     ]
    }
   ],
   "source": [
    "!python nextbus.py 22 14787"
   ]
  },
  {
   "cell_type": "code",
   "execution_count": 7,
   "metadata": {},
   "outputs": [
    {
     "name": "stdout",
     "output_type": "stream",
     "text": [
      "29 MIN\r\n"
     ]
    }
   ],
   "source": [
    "!python nextbus.py 22 14791"
   ]
  },
  {
   "cell_type": "code",
   "execution_count": 8,
   "metadata": {},
   "outputs": [],
   "source": []
  },
  {
   "cell_type": "code",
   "execution_count": null,
   "metadata": {},
   "outputs": [],
   "source": []
  }
 ],
 "metadata": {
  "kernelspec": {
   "display_name": "Python 3",
   "language": "python",
   "name": "python3"
  },
  "language_info": {
   "codemirror_mode": {
    "name": "ipython",
    "version": 3
   },
   "file_extension": ".py",
   "mimetype": "text/x-python",
   "name": "python",
   "nbconvert_exporter": "python",
   "pygments_lexer": "ipython3",
   "version": "3.7.5"
  }
 },
 "nbformat": 4,
 "nbformat_minor": 2
}
