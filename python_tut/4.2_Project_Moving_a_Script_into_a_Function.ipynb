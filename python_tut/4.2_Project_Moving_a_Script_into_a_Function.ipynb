{
 "cells": [
  {
   "cell_type": "code",
   "execution_count": 2,
   "metadata": {},
   "outputs": [
    {
     "name": "stdout",
     "output_type": "stream",
     "text": [
      "# port.py\r\n",
      "\r\n",
      "import csv\r\n",
      "\r\n",
      "total = 0.0\r\n",
      "\r\n",
      "with open('Data/portfolio.csv', 'r') as f:\r\n",
      "    rows = csv.reader(f)\r\n",
      "    headers = next(rows)        # Skip the header row\r\n",
      "    for row in rows:\r\n",
      "        row[2] = int(row[2])\r\n",
      "        row[3] = float(row[3])\r\n",
      "        total += row[2]*row[3]\r\n",
      "\r\n",
      "print('Total cost:', total)\r\n"
     ]
    }
   ],
   "source": [
    "!cat port.py"
   ]
  },
  {
   "cell_type": "code",
   "execution_count": 3,
   "metadata": {},
   "outputs": [
    {
     "name": "stdout",
     "output_type": "stream",
     "text": [
      "Total cost: 44671.15\r\n"
     ]
    }
   ],
   "source": [
    "!python port.py"
   ]
  },
  {
   "cell_type": "markdown",
   "metadata": {},
   "source": [
    "## make filename dynamic by moving into function"
   ]
  },
  {
   "cell_type": "code",
   "execution_count": 6,
   "metadata": {},
   "outputs": [
    {
     "name": "stdout",
     "output_type": "stream",
     "text": [
      "# port.py\r\n",
      "\r\n",
      "import csv\r\n",
      "\r\n",
      "def portfolio_cost(filename):\r\n",
      "    '''\r\n",
      "    Computes total shares*price for a CSV file with name, date, shares, price data\r\n",
      "    '''\r\n",
      "\r\n",
      "    total = 0.0\r\n",
      "    with open(filename, 'r') as f:\r\n",
      "        rows = csv.reader(f)\r\n",
      "        headers = next(rows)        # Skip the header row\r\n",
      "        for row in rows:\r\n",
      "            row[2] = int(row[2])\r\n",
      "            row[3] = float(row[3])\r\n",
      "            total += row[2]*row[3]\r\n",
      "    return total\r\n",
      "\r\n",
      "total = portfolio_cost('Data/portfolio.csv')\r\n",
      "print('Total cost:', total)\r\n"
     ]
    }
   ],
   "source": [
    "!cat port.py"
   ]
  },
  {
   "cell_type": "code",
   "execution_count": 7,
   "metadata": {},
   "outputs": [
    {
     "name": "stdout",
     "output_type": "stream",
     "text": [
      "Total cost: 44671.15\r\n"
     ]
    }
   ],
   "source": [
    "!python port.py"
   ]
  },
  {
   "cell_type": "code",
   "execution_count": null,
   "metadata": {},
   "outputs": [
    {
     "name": "stdout",
     "output_type": "stream",
     "text": [
      "Total cost: 44671.15\r\n",
      ">>> "
     ]
    }
   ],
   "source": [
    "!python -i port.py"
   ]
  },
  {
   "cell_type": "code",
   "execution_count": 1,
   "metadata": {},
   "outputs": [
    {
     "name": "stdout",
     "output_type": "stream",
     "text": [
      "Total cost: 44671.15\n"
     ]
    }
   ],
   "source": [
    "from port import portfolio_cost"
   ]
  },
  {
   "cell_type": "code",
   "execution_count": 2,
   "metadata": {},
   "outputs": [
    {
     "data": {
      "text/plain": [
       "44671.15"
      ]
     },
     "execution_count": 2,
     "metadata": {},
     "output_type": "execute_result"
    }
   ],
   "source": [
    "portfolio_cost('Data/portfolio2.csv')"
   ]
  },
  {
   "cell_type": "code",
   "execution_count": 3,
   "metadata": {},
   "outputs": [
    {
     "data": {
      "text/plain": [
       "39405.75"
      ]
     },
     "execution_count": 3,
     "metadata": {},
     "output_type": "execute_result"
    }
   ],
   "source": [
    "portfolio_cost('Data/portfolio3.csv')"
   ]
  },
  {
   "cell_type": "markdown",
   "metadata": {},
   "source": [
    "## get all the files start with portfolio"
   ]
  },
  {
   "cell_type": "code",
   "execution_count": 4,
   "metadata": {},
   "outputs": [],
   "source": [
    "import glob"
   ]
  },
  {
   "cell_type": "code",
   "execution_count": 5,
   "metadata": {},
   "outputs": [],
   "source": [
    "files = glob.glob('Data/portfolio*.csv')"
   ]
  },
  {
   "cell_type": "code",
   "execution_count": 6,
   "metadata": {},
   "outputs": [
    {
     "data": {
      "text/plain": [
       "['Data/portfolio.csv', 'Data/portfolio2.csv', 'Data/portfolio3.csv']"
      ]
     },
     "execution_count": 6,
     "metadata": {},
     "output_type": "execute_result"
    }
   ],
   "source": [
    "files"
   ]
  },
  {
   "cell_type": "code",
   "execution_count": 7,
   "metadata": {},
   "outputs": [
    {
     "name": "stdout",
     "output_type": "stream",
     "text": [
      "Data/portfolio.csv 44671.15\n",
      "Data/portfolio2.csv 44671.15\n",
      "Data/portfolio3.csv 39405.75\n"
     ]
    }
   ],
   "source": [
    "for filename in files:\n",
    "    print(filename, portfolio_cost(filename))"
   ]
  },
  {
   "cell_type": "code",
   "execution_count": null,
   "metadata": {},
   "outputs": [],
   "source": []
  }
 ],
 "metadata": {
  "kernelspec": {
   "display_name": "Python 3",
   "language": "python",
   "name": "python3"
  },
  "language_info": {
   "codemirror_mode": {
    "name": "ipython",
    "version": 3
   },
   "file_extension": ".py",
   "mimetype": "text/x-python",
   "name": "python",
   "nbconvert_exporter": "python",
   "pygments_lexer": "ipython3",
   "version": "3.7.5"
  }
 },
 "nbformat": 4,
 "nbformat_minor": 2
}
