{
 "cells": [
  {
   "cell_type": "code",
   "execution_count": 1,
   "metadata": {},
   "outputs": [
    {
     "name": "stdout",
     "output_type": "stream",
     "text": [
      "# port.py\r\n",
      "\r\n",
      "import csv\r\n",
      "\r\n",
      "def portfolio_cost(filename):\r\n",
      "    '''\r\n",
      "    Computes total shares*price for a CSV file with name, date, shares, price data\r\n",
      "    '''\r\n",
      "\r\n",
      "    total = 0.0\r\n",
      "    with open(filename, 'r') as f:\r\n",
      "        rows = csv.reader(f)\r\n",
      "        headers = next(rows)        # Skip the header row\r\n",
      "        for row in rows:\r\n",
      "            row[2] = int(row[2])\r\n",
      "            row[3] = float(row[3])\r\n",
      "            total += row[2]*row[3]\r\n",
      "    return total\r\n",
      "\r\n",
      "total = portfolio_cost('Data/portfolio.csv')\r\n",
      "print('Total cost:', total)\r\n"
     ]
    }
   ],
   "source": [
    "!cat port.py"
   ]
  },
  {
   "cell_type": "code",
   "execution_count": 2,
   "metadata": {},
   "outputs": [
    {
     "name": "stdout",
     "output_type": "stream",
     "text": [
      "Total cost: 44671.15\r\n"
     ]
    }
   ],
   "source": [
    "!python port.py"
   ]
  },
  {
   "cell_type": "markdown",
   "metadata": {},
   "source": [
    "## break the code by using missing.csv"
   ]
  },
  {
   "cell_type": "code",
   "execution_count": 3,
   "metadata": {},
   "outputs": [
    {
     "name": "stdout",
     "output_type": "stream",
     "text": [
      "# port.py\r\n",
      "\r\n",
      "import csv\r\n",
      "\r\n",
      "def portfolio_cost(filename):\r\n",
      "    '''\r\n",
      "    Computes total shares*price for a CSV file with name, date, shares, price data\r\n",
      "    '''\r\n",
      "\r\n",
      "    total = 0.0\r\n",
      "    with open(filename, 'r') as f:\r\n",
      "        rows = csv.reader(f)\r\n",
      "        headers = next(rows)        # Skip the header row\r\n",
      "        for row in rows:\r\n",
      "            row[2] = int(row[2])\r\n",
      "            row[3] = float(row[3])\r\n",
      "            total += row[2]*row[3]\r\n",
      "    return total\r\n",
      "\r\n",
      "total = portfolio_cost('Data/missing.csv')\r\n",
      "print('Total cost:', total)\r\n"
     ]
    }
   ],
   "source": [
    "!cat port.py"
   ]
  },
  {
   "cell_type": "code",
   "execution_count": 4,
   "metadata": {},
   "outputs": [
    {
     "name": "stdout",
     "output_type": "stream",
     "text": [
      "Traceback (most recent call last):\n",
      "  File \"port.py\", line 20, in <module>\n",
      "    total = portfolio_cost('Data/missing.csv')\n",
      "  File \"port.py\", line 15, in portfolio_cost\n",
      "    row[2] = int(row[2])\n",
      "ValueError: invalid literal for int() with base 10: ''\n"
     ]
    }
   ],
   "source": [
    "!python port.py"
   ]
  },
  {
   "cell_type": "code",
   "execution_count": 5,
   "metadata": {},
   "outputs": [
    {
     "name": "stdout",
     "output_type": "stream",
     "text": [
      "name,date,shares,price\r\n",
      "\"AA\",\"2007-06-11\",100,32.20\r\n",
      "\"IBM\",\"2007-05-13\",50,91.10\r\n",
      "\"CAT\",\"2006-09-23\",,83.44\r\n",
      "\"MSFT\",\"2007-05-17\",200,51.23\r\n",
      "\"GE\",\"2006-02-01\",95,40.37\r\n",
      "\"MSFT\",\"2006-10-31\",N/A,65.10\r\n",
      "\"IBM\",\"2006-07-09\",100,70.44\r\n"
     ]
    }
   ],
   "source": [
    "!cat Data/missing.csv"
   ]
  },
  {
   "cell_type": "markdown",
   "metadata": {},
   "source": [
    "## catch ValueError"
   ]
  },
  {
   "cell_type": "code",
   "execution_count": 7,
   "metadata": {},
   "outputs": [
    {
     "name": "stdout",
     "output_type": "stream",
     "text": [
      "# port.py\r\n",
      "\r\n",
      "import csv\r\n",
      "\r\n",
      "def portfolio_cost(filename):\r\n",
      "    '''\r\n",
      "    Computes total shares*price for a CSV file with name, date, shares, price data\r\n",
      "    '''\r\n",
      "\r\n",
      "    total = 0.0\r\n",
      "    with open(filename, 'r') as f:\r\n",
      "        rows = csv.reader(f)\r\n",
      "        headers = next(rows)        # Skip the header row\r\n",
      "        for row in rows:\r\n",
      "            try:\r\n",
      "                row[2] = int(row[2])\r\n",
      "                row[3] = float(row[3])\r\n",
      "                total += row[2]*row[3]\r\n",
      "            except ValueError:\r\n",
      "                print('Bad row:', row)\r\n",
      "    return total\r\n",
      "\r\n",
      "total = portfolio_cost('Data/missing.csv')\r\n",
      "print('Total cost:', total)\r\n"
     ]
    }
   ],
   "source": [
    "!cat port.py"
   ]
  },
  {
   "cell_type": "code",
   "execution_count": 8,
   "metadata": {},
   "outputs": [
    {
     "name": "stdout",
     "output_type": "stream",
     "text": [
      "Bad row: ['CAT', '2006-09-23', '', '83.44']\r\n",
      "Bad row: ['MSFT', '2006-10-31', 'N/A', '65.10']\r\n",
      "Total cost: 28900.15\r\n"
     ]
    }
   ],
   "source": [
    "!python port.py"
   ]
  },
  {
   "cell_type": "markdown",
   "metadata": {},
   "source": [
    "## why the row is bad?"
   ]
  },
  {
   "cell_type": "code",
   "execution_count": 9,
   "metadata": {},
   "outputs": [
    {
     "name": "stdout",
     "output_type": "stream",
     "text": [
      "# port.py\r\n",
      "\r\n",
      "import csv\r\n",
      "\r\n",
      "def portfolio_cost(filename):\r\n",
      "    '''\r\n",
      "    Computes total shares*price for a CSV file with name, date, shares, price data\r\n",
      "    '''\r\n",
      "\r\n",
      "    total = 0.0\r\n",
      "    with open(filename, 'r') as f:\r\n",
      "        rows = csv.reader(f)\r\n",
      "        headers = next(rows)        # Skip the header row\r\n",
      "        for row in rows:\r\n",
      "            try:\r\n",
      "                row[2] = int(row[2])\r\n",
      "                row[3] = float(row[3])\r\n",
      "                total += row[2]*row[3]\r\n",
      "            except ValueError as err:\r\n",
      "                print('Bad row:', row)\r\n",
      "                print('Reason:', err)\r\n",
      "    return total\r\n",
      "\r\n",
      "total = portfolio_cost('Data/missing.csv')\r\n",
      "print('Total cost:', total)\r\n"
     ]
    }
   ],
   "source": [
    "!cat port.py"
   ]
  },
  {
   "cell_type": "code",
   "execution_count": 10,
   "metadata": {},
   "outputs": [
    {
     "name": "stdout",
     "output_type": "stream",
     "text": [
      "Bad row: ['CAT', '2006-09-23', '', '83.44']\r\n",
      "Reason: invalid literal for int() with base 10: ''\r\n",
      "Bad row: ['MSFT', '2006-10-31', 'N/A', '65.10']\r\n",
      "Reason: invalid literal for int() with base 10: 'N/A'\r\n",
      "Total cost: 28900.15\r\n"
     ]
    }
   ],
   "source": [
    "!python port.py"
   ]
  },
  {
   "cell_type": "markdown",
   "metadata": {},
   "source": [
    "## where in the row is it bad?"
   ]
  },
  {
   "cell_type": "code",
   "execution_count": 11,
   "metadata": {},
   "outputs": [
    {
     "name": "stdout",
     "output_type": "stream",
     "text": [
      "# port.py\r\n",
      "\r\n",
      "import csv\r\n",
      "\r\n",
      "def portfolio_cost(filename):\r\n",
      "    '''\r\n",
      "    Computes total shares*price for a CSV file with name, date, shares, price data\r\n",
      "    '''\r\n",
      "\r\n",
      "    total = 0.0\r\n",
      "    with open(filename, 'r') as f:\r\n",
      "        rows = csv.reader(f)\r\n",
      "        headers = next(rows)        # Skip the header row\r\n",
      "        rowno = 0\r\n",
      "        for row in rows:\r\n",
      "            rowno += 1\r\n",
      "            try:\r\n",
      "                row[2] = int(row[2])\r\n",
      "                row[3] = float(row[3])\r\n",
      "                total += row[2]*row[3]\r\n",
      "            except ValueError as err:\r\n",
      "                print('Row:', rowno, 'Bad row:', row)\r\n",
      "                print('Row:', rowno, 'Reason:', err)\r\n",
      "    return total\r\n",
      "\r\n",
      "total = portfolio_cost('Data/missing.csv')\r\n",
      "print('Total cost:', total)\r\n"
     ]
    }
   ],
   "source": [
    "!cat port.py"
   ]
  },
  {
   "cell_type": "code",
   "execution_count": 12,
   "metadata": {},
   "outputs": [
    {
     "name": "stdout",
     "output_type": "stream",
     "text": [
      "Row: 3 Bad row: ['CAT', '2006-09-23', '', '83.44']\r\n",
      "Row: 3 Reason: invalid literal for int() with base 10: ''\r\n",
      "Row: 6 Bad row: ['MSFT', '2006-10-31', 'N/A', '65.10']\r\n",
      "Row: 6 Reason: invalid literal for int() with base 10: 'N/A'\r\n",
      "Total cost: 28900.15\r\n"
     ]
    }
   ],
   "source": [
    "!python port.py"
   ]
  },
  {
   "cell_type": "markdown",
   "metadata": {},
   "source": [
    "## use enumerate instead of keeping a counter for rowno"
   ]
  },
  {
   "cell_type": "code",
   "execution_count": 15,
   "metadata": {},
   "outputs": [
    {
     "name": "stdout",
     "output_type": "stream",
     "text": [
      "# port.py\r\n",
      "\r\n",
      "import csv\r\n",
      "\r\n",
      "def portfolio_cost(filename):\r\n",
      "    '''\r\n",
      "    Computes total shares*price for a CSV file with name, date, shares, price data\r\n",
      "    '''\r\n",
      "\r\n",
      "    total = 0.0\r\n",
      "    with open(filename, 'r') as f:\r\n",
      "        rows = csv.reader(f)\r\n",
      "        headers = next(rows)        # Skip the header row\r\n",
      "        for rowno, row in enumerate(rows, start=1):\r\n",
      "            try:\r\n",
      "                row[2] = int(row[2])\r\n",
      "                row[3] = float(row[3])\r\n",
      "                total += row[2]*row[3]\r\n",
      "            except ValueError as err:\r\n",
      "                print('Row:', rowno, 'Bad row:', row)\r\n",
      "                print('Row:', rowno, 'Reason:', err)\r\n",
      "    return total\r\n",
      "\r\n",
      "total = portfolio_cost('Data/missing.csv')\r\n",
      "print('Total cost:', total)\r\n"
     ]
    }
   ],
   "source": [
    "!cat port.py"
   ]
  },
  {
   "cell_type": "code",
   "execution_count": 16,
   "metadata": {},
   "outputs": [
    {
     "name": "stdout",
     "output_type": "stream",
     "text": [
      "Row: 3 Bad row: ['CAT', '2006-09-23', '', '83.44']\r\n",
      "Row: 3 Reason: invalid literal for int() with base 10: ''\r\n",
      "Row: 6 Bad row: ['MSFT', '2006-10-31', 'N/A', '65.10']\r\n",
      "Row: 6 Reason: invalid literal for int() with base 10: 'N/A'\r\n",
      "Total cost: 28900.15\r\n"
     ]
    }
   ],
   "source": [
    "!python port.py"
   ]
  },
  {
   "cell_type": "code",
   "execution_count": null,
   "metadata": {},
   "outputs": [],
   "source": []
  }
 ],
 "metadata": {
  "kernelspec": {
   "display_name": "Python 3",
   "language": "python",
   "name": "python3"
  },
  "language_info": {
   "codemirror_mode": {
    "name": "ipython",
    "version": 3
   },
   "file_extension": ".py",
   "mimetype": "text/x-python",
   "name": "python",
   "nbconvert_exporter": "python",
   "pygments_lexer": "ipython3",
   "version": "3.7.5"
  }
 },
 "nbformat": 4,
 "nbformat_minor": 2
}
