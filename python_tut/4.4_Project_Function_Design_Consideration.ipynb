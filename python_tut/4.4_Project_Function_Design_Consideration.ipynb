{
 "cells": [
  {
   "cell_type": "markdown",
   "metadata": {},
   "source": [
    "## howto know what errors gonna be generated?"
   ]
  },
  {
   "cell_type": "markdown",
   "metadata": {},
   "source": [
    "## catch all Errors with Exception, the diaper pattern"
   ]
  },
  {
   "cell_type": "code",
   "execution_count": 3,
   "metadata": {},
   "outputs": [
    {
     "name": "stdout",
     "output_type": "stream",
     "text": [
      "# port.py\r\n",
      "\r\n",
      "import csv\r\n",
      "\r\n",
      "def portfolio_cost(filename):\r\n",
      "    '''\r\n",
      "    Computes total shares*price for a CSV file with name, date, shares, price data\r\n",
      "    '''\r\n",
      "\r\n",
      "    total = 0.0\r\n",
      "    with open(filename, 'r') as f:\r\n",
      "        rows = csv.reader(f)\r\n",
      "        headers = next(rows)        # Skip the header row\r\n",
      "        for rowno, row in enumerate(rows, start=1):\r\n",
      "            try:\r\n",
      "                row[2] = int(row[2])\r\n",
      "                row[3] = float(row[3])\r\n",
      "                total += row[2]*row[3]\r\n",
      "            except Exception as err:    # Catches all errors (dangerous)\r\n",
      "                print('Row:', rowno, 'Bad row:', row)\r\n",
      "                print('Row:', rowno, 'Reason:', err)\r\n",
      "    return total\r\n",
      "\r\n",
      "total = portfolio_cost('Data/missing.csv')\r\n",
      "print('Total cost:', total)\r\n"
     ]
    }
   ],
   "source": [
    "!cat port.py"
   ]
  },
  {
   "cell_type": "code",
   "execution_count": 4,
   "metadata": {},
   "outputs": [
    {
     "name": "stdout",
     "output_type": "stream",
     "text": [
      "Row: 3 Bad row: ['CAT', '2006-09-23', '', '83.44']\r\n",
      "Row: 3 Reason: invalid literal for int() with base 10: ''\r\n",
      "Row: 6 Bad row: ['MSFT', '2006-10-31', 'N/A', '65.10']\r\n",
      "Row: 6 Reason: invalid literal for int() with base 10: 'N/A'\r\n",
      "Total cost: 28900.15\r\n"
     ]
    }
   ],
   "source": [
    "!python port.py"
   ]
  },
  {
   "cell_type": "markdown",
   "metadata": {},
   "source": [
    "## catcthing all errors is dangerous because code will give weird errors\n",
    "- ### make typo, float to flot"
   ]
  },
  {
   "cell_type": "code",
   "execution_count": 6,
   "metadata": {},
   "outputs": [
    {
     "name": "stdout",
     "output_type": "stream",
     "text": [
      "# port.py\r\n",
      "\r\n",
      "import csv\r\n",
      "\r\n",
      "def portfolio_cost(filename):\r\n",
      "    '''\r\n",
      "    Computes total shares*price for a CSV file with name, date, shares, price data\r\n",
      "    '''\r\n",
      "\r\n",
      "    total = 0.0\r\n",
      "    with open(filename, 'r') as f:\r\n",
      "        rows = csv.reader(f)\r\n",
      "        headers = next(rows)        # Skip the header row\r\n",
      "        for rowno, row in enumerate(rows, start=1):\r\n",
      "            try:\r\n",
      "                row[2] = int(row[2])\r\n",
      "                row[3] = flot(row[3])\r\n",
      "                total += row[2]*row[3]\r\n",
      "            except Exception as err:    # Catches all errors (dangerous)\r\n",
      "                print('Row:', rowno, 'Bad row:', row)\r\n",
      "                print('Row:', rowno, 'Reason:', err)\r\n",
      "    return total\r\n",
      "\r\n",
      "total = portfolio_cost('Data/missing.csv')\r\n",
      "print('Total cost:', total)\r\n"
     ]
    }
   ],
   "source": [
    "!cat port.py"
   ]
  },
  {
   "cell_type": "code",
   "execution_count": 7,
   "metadata": {},
   "outputs": [
    {
     "name": "stdout",
     "output_type": "stream",
     "text": [
      "Row: 1 Bad row: ['AA', '2007-06-11', 100, '32.20']\r\n",
      "Row: 1 Reason: name 'flot' is not defined\r\n",
      "Row: 2 Bad row: ['IBM', '2007-05-13', 50, '91.10']\r\n",
      "Row: 2 Reason: name 'flot' is not defined\r\n",
      "Row: 3 Bad row: ['CAT', '2006-09-23', '', '83.44']\r\n",
      "Row: 3 Reason: invalid literal for int() with base 10: ''\r\n",
      "Row: 4 Bad row: ['MSFT', '2007-05-17', 200, '51.23']\r\n",
      "Row: 4 Reason: name 'flot' is not defined\r\n",
      "Row: 5 Bad row: ['GE', '2006-02-01', 95, '40.37']\r\n",
      "Row: 5 Reason: name 'flot' is not defined\r\n",
      "Row: 6 Bad row: ['MSFT', '2006-10-31', 'N/A', '65.10']\r\n",
      "Row: 6 Reason: invalid literal for int() with base 10: 'N/A'\r\n",
      "Row: 7 Bad row: ['IBM', '2006-07-09', 100, '70.44']\r\n",
      "Row: 7 Reason: name 'flot' is not defined\r\n",
      "Total cost: 0.0\r\n"
     ]
    }
   ],
   "source": [
    "!python port.py"
   ]
  },
  {
   "cell_type": "markdown",
   "metadata": {},
   "source": [
    "# Avoid using catching all Errors"
   ]
  },
  {
   "cell_type": "markdown",
   "metadata": {},
   "source": [
    "## zen of python, errors should not passes silently unless explicitly silent\n",
    "\n",
    "### print only if want to see the errors"
   ]
  },
  {
   "cell_type": "code",
   "execution_count": 12,
   "metadata": {},
   "outputs": [
    {
     "name": "stdout",
     "output_type": "stream",
     "text": [
      "# port.py\r\n",
      "\r\n",
      "import csv\r\n",
      "\r\n",
      "def portfolio_cost(filename, errors='warn'):\r\n",
      "    '''\r\n",
      "    Computes total shares*price for a CSV file with name, date, shares, price data\r\n",
      "    '''\r\n",
      "\r\n",
      "    total = 0.0\r\n",
      "    with open(filename, 'r') as f:\r\n",
      "        rows = csv.reader(f)\r\n",
      "        headers = next(rows)        # Skip the header row\r\n",
      "        for rowno, row in enumerate(rows, start=1):\r\n",
      "            try:\r\n",
      "                row[2] = int(row[2])\r\n",
      "                row[3] = float(row[3])\r\n",
      "                total += row[2]*row[3]\r\n",
      "            except ValueError as err:    # Catches all errors (dangerous)\r\n",
      "                if errors == 'warn':\r\n",
      "                    print('Row:', rowno, 'Bad row:', row)\r\n",
      "                    print('Row:', rowno, 'Reason:', err)\r\n",
      "    return total\r\n",
      "\r\n",
      "total = portfolio_cost('Data/missing.csv', 'silent')\r\n",
      "print('Total cost:', total)\r\n"
     ]
    }
   ],
   "source": [
    "!cat port.py"
   ]
  },
  {
   "cell_type": "code",
   "execution_count": 13,
   "metadata": {},
   "outputs": [
    {
     "name": "stdout",
     "output_type": "stream",
     "text": [
      "Total cost: 28900.15\r\n"
     ]
    }
   ],
   "source": [
    "!python port.py"
   ]
  },
  {
   "cell_type": "markdown",
   "metadata": {},
   "source": [
    "## what does the silent argunment means?"
   ]
  },
  {
   "cell_type": "markdown",
   "metadata": {},
   "source": [
    "### force positional argument"
   ]
  },
  {
   "cell_type": "code",
   "execution_count": 14,
   "metadata": {},
   "outputs": [
    {
     "name": "stdout",
     "output_type": "stream",
     "text": [
      "# port.py\r\n",
      "\r\n",
      "import csv\r\n",
      "\r\n",
      "def portfolio_cost(filename, *, errors='warn'):\r\n",
      "    '''\r\n",
      "    Computes total shares*price for a CSV file with name, date, shares, price data\r\n",
      "    '''\r\n",
      "\r\n",
      "    total = 0.0\r\n",
      "    with open(filename, 'r') as f:\r\n",
      "        rows = csv.reader(f)\r\n",
      "        headers = next(rows)        # Skip the header row\r\n",
      "        for rowno, row in enumerate(rows, start=1):\r\n",
      "            try:\r\n",
      "                row[2] = int(row[2])\r\n",
      "                row[3] = float(row[3])\r\n",
      "                total += row[2]*row[3]\r\n",
      "            except ValueError as err:    # Catches all errors (dangerous)\r\n",
      "                if errors == 'warn':\r\n",
      "                    print('Row:', rowno, 'Bad row:', row)\r\n",
      "                    print('Row:', rowno, 'Reason:', err)\r\n",
      "    return total\r\n",
      "\r\n",
      "total = portfolio_cost('Data/missing.csv', 'silent')\r\n",
      "print('Total cost:', total)\r\n"
     ]
    }
   ],
   "source": [
    "!cat port.py"
   ]
  },
  {
   "cell_type": "code",
   "execution_count": 15,
   "metadata": {},
   "outputs": [
    {
     "name": "stdout",
     "output_type": "stream",
     "text": [
      "Traceback (most recent call last):\r\n",
      "  File \"port.py\", line 25, in <module>\r\n",
      "    total = portfolio_cost('Data/missing.csv', 'silent')\r\n",
      "TypeError: portfolio_cost() takes 1 positional argument but 2 were given\r\n"
     ]
    }
   ],
   "source": [
    "!python port.py"
   ]
  },
  {
   "cell_type": "code",
   "execution_count": 16,
   "metadata": {},
   "outputs": [
    {
     "name": "stdout",
     "output_type": "stream",
     "text": [
      "# port.py\r\n",
      "\r\n",
      "import csv\r\n",
      "\r\n",
      "def portfolio_cost(filename, *, errors='warn'):\r\n",
      "    '''\r\n",
      "    Computes total shares*price for a CSV file with name, date, shares, price data\r\n",
      "    '''\r\n",
      "\r\n",
      "    total = 0.0\r\n",
      "    with open(filename, 'r') as f:\r\n",
      "        rows = csv.reader(f)\r\n",
      "        headers = next(rows)        # Skip the header row\r\n",
      "        for rowno, row in enumerate(rows, start=1):\r\n",
      "            try:\r\n",
      "                row[2] = int(row[2])\r\n",
      "                row[3] = float(row[3])\r\n",
      "                total += row[2]*row[3]\r\n",
      "            except ValueError as err:    # Catches all errors (dangerous)\r\n",
      "                if errors == 'warn':\r\n",
      "                    print('Row:', rowno, 'Bad row:', row)\r\n",
      "                    print('Row:', rowno, 'Reason:', err)\r\n",
      "    return total\r\n",
      "\r\n",
      "total = portfolio_cost('Data/missing.csv', errors='silent')\r\n",
      "print('Total cost:', total)\r\n"
     ]
    }
   ],
   "source": [
    "!cat port.py"
   ]
  },
  {
   "cell_type": "code",
   "execution_count": 17,
   "metadata": {},
   "outputs": [
    {
     "name": "stdout",
     "output_type": "stream",
     "text": [
      "Total cost: 28900.15\r\n"
     ]
    }
   ],
   "source": [
    "!python port.py"
   ]
  },
  {
   "cell_type": "markdown",
   "metadata": {},
   "source": [
    "## add valid value for errors, be defensive on function definition"
   ]
  },
  {
   "cell_type": "code",
   "execution_count": 18,
   "metadata": {},
   "outputs": [
    {
     "name": "stdout",
     "output_type": "stream",
     "text": [
      "# port.py\r\n",
      "\r\n",
      "import csv\r\n",
      "\r\n",
      "def portfolio_cost(filename, *, errors='warn'):\r\n",
      "    '''\r\n",
      "    Computes total shares*price for a CSV file with name, date, shares, price data\r\n",
      "    '''\r\n",
      "    if errors not in {'warn', 'silent', 'raise'}:\r\n",
      "        raise ValueError(\"errors must be one of 'warn', 'silent', 'raise'\")\r\n",
      "\r\n",
      "    total = 0.0\r\n",
      "    with open(filename, 'r') as f:\r\n",
      "        rows = csv.reader(f)\r\n",
      "        headers = next(rows)        # Skip the header row\r\n",
      "        for rowno, row in enumerate(rows, start=1):\r\n",
      "            try:\r\n",
      "                row[2] = int(row[2])\r\n",
      "                row[3] = float(row[3])\r\n",
      "                total += row[2]*row[3]\r\n",
      "            except ValueError as err:    # Catches all errors (dangerous)\r\n",
      "                if errors == 'warn':\r\n",
      "                    print('Row:', rowno, 'Bad row:', row)\r\n",
      "                    print('Row:', rowno, 'Reason:', err)\r\n",
      "                elif errors == 'raise':\r\n",
      "                    raise           # Reraises the last exception\r\n",
      "                else:\r\n",
      "                    pass            # Ignore\r\n",
      "    return total\r\n",
      "\r\n",
      "total = portfolio_cost('Data/missing.csv', errors='ignore')\r\n",
      "print('Total cost:', total)\r\n"
     ]
    }
   ],
   "source": [
    "!cat port.py"
   ]
  },
  {
   "cell_type": "code",
   "execution_count": 19,
   "metadata": {},
   "outputs": [
    {
     "name": "stdout",
     "output_type": "stream",
     "text": [
      "Traceback (most recent call last):\r\n",
      "  File \"port.py\", line 31, in <module>\r\n",
      "    total = portfolio_cost('Data/missing.csv', errors='ignore')\r\n",
      "  File \"port.py\", line 10, in portfolio_cost\r\n",
      "    raise ValueError(\"errors must be one of 'warn', 'silent', 'raise'\")\r\n",
      "ValueError: errors must be one of 'warn', 'silent', 'raise'\r\n"
     ]
    }
   ],
   "source": [
    "!python port.py"
   ]
  },
  {
   "cell_type": "markdown",
   "metadata": {},
   "source": [
    "# never catch errors that can not be deal upon"
   ]
  },
  {
   "cell_type": "code",
   "execution_count": 20,
   "metadata": {},
   "outputs": [],
   "source": [
    "# total = portfolio_cost('Data/bogus.csv', errors='silent')"
   ]
  },
  {
   "cell_type": "code",
   "execution_count": null,
   "metadata": {},
   "outputs": [],
   "source": []
  }
 ],
 "metadata": {
  "kernelspec": {
   "display_name": "Python 3",
   "language": "python",
   "name": "python3"
  },
  "language_info": {
   "codemirror_mode": {
    "name": "ipython",
    "version": 3
   },
   "file_extension": ".py",
   "mimetype": "text/x-python",
   "name": "python",
   "nbconvert_exporter": "python",
   "pygments_lexer": "ipython3",
   "version": "3.7.5"
  }
 },
 "nbformat": 4,
 "nbformat_minor": 2
}
