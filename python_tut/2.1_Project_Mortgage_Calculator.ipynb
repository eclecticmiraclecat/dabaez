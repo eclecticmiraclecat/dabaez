{
 "cells": [
  {
   "cell_type": "code",
   "execution_count": 1,
   "metadata": {},
   "outputs": [
    {
     "name": "stdout",
     "output_type": "stream",
     "text": [
      "# mortgage.py\r\n",
      "#\r\n",
      "# Find out how long to a pay off a mortgage\r\n",
      "\r\n",
      "principal = 500_000\r\n",
      "payment = 2684.11\r\n",
      "rate = 0.05\r\n",
      "total_paid = 0\r\n",
      "\r\n",
      "while principal > 0:\r\n",
      "    interest = principal*(rate/12)\r\n",
      "    principal = principal + interest - payment\r\n",
      "    total_paid += payment\r\n",
      "\r\n",
      "print('Total paid:', total_paid)\r\n"
     ]
    }
   ],
   "source": [
    "!cat mortgage.py"
   ]
  },
  {
   "cell_type": "code",
   "execution_count": 2,
   "metadata": {},
   "outputs": [
    {
     "name": "stdout",
     "output_type": "stream",
     "text": [
      "Total paid: 966279.5999999957\r\n"
     ]
    }
   ],
   "source": [
    "!python mortgage.py"
   ]
  },
  {
   "cell_type": "markdown",
   "metadata": {},
   "source": [
    "## pay extra for 60 month"
   ]
  },
  {
   "cell_type": "code",
   "execution_count": 4,
   "metadata": {},
   "outputs": [
    {
     "name": "stdout",
     "output_type": "stream",
     "text": [
      "# mortgage.py\r\n",
      "#\r\n",
      "# Find out how long to a pay off a mortgage\r\n",
      "\r\n",
      "principal = 500_000\r\n",
      "payment = 2684.11\r\n",
      "rate = 0.05\r\n",
      "total_paid = 0\r\n",
      "\r\n",
      "# Extra payment info\r\n",
      "extra_payment = 1_000\r\n",
      "extra_payment_start_month = 1\r\n",
      "extra_payment_end_month = 60\r\n",
      "month = 0\r\n",
      "\r\n",
      "while principal > 0:\r\n",
      "    month += 1\r\n",
      "    if extra_payment_start_month <= month <= extra_payment_end_month:\r\n",
      "        total_payment = payment + extra_payment\r\n",
      "    else:\r\n",
      "        total_payment = payment\r\n",
      "    interest = principal*(rate/12)\r\n",
      "    principal = principal + interest - total_payment\r\n",
      "    total_paid += total_payment\r\n",
      "\r\n",
      "print('Total paid:', total_paid)\r\n"
     ]
    }
   ],
   "source": [
    "!cat mortgage.py"
   ]
  },
  {
   "cell_type": "code",
   "execution_count": 5,
   "metadata": {},
   "outputs": [
    {
     "name": "stdout",
     "output_type": "stream",
     "text": [
      "Total paid: 824971.3499999966\r\n"
     ]
    }
   ],
   "source": [
    "!python mortgage.py"
   ]
  },
  {
   "cell_type": "code",
   "execution_count": null,
   "metadata": {},
   "outputs": [],
   "source": []
  }
 ],
 "metadata": {
  "kernelspec": {
   "display_name": "Python 3",
   "language": "python",
   "name": "python3"
  },
  "language_info": {
   "codemirror_mode": {
    "name": "ipython",
    "version": 3
   },
   "file_extension": ".py",
   "mimetype": "text/x-python",
   "name": "python",
   "nbconvert_exporter": "python",
   "pygments_lexer": "ipython3",
   "version": "3.7.5"
  }
 },
 "nbformat": 4,
 "nbformat_minor": 2
}
