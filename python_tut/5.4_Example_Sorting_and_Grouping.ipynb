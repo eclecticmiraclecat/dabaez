{
 "cells": [
  {
   "cell_type": "code",
   "execution_count": 1,
   "metadata": {},
   "outputs": [
    {
     "name": "stdout",
     "output_type": "stream",
     "text": [
      "Total cost: 44671.15\n"
     ]
    }
   ],
   "source": [
    "from port import *"
   ]
  },
  {
   "cell_type": "code",
   "execution_count": 2,
   "metadata": {},
   "outputs": [
    {
     "name": "stdout",
     "output_type": "stream",
     "text": [
      "{'name': 'AA', 'date': '2007-06-11', 'shares': 100, 'price': 32.2}\n",
      "{'name': 'IBM', 'date': '2007-05-13', 'shares': 50, 'price': 91.1}\n",
      "{'name': 'CAT', 'date': '2006-09-23', 'shares': 150, 'price': 83.44}\n",
      "{'name': 'MSFT', 'date': '2007-05-17', 'shares': 200, 'price': 51.23}\n",
      "{'name': 'GE', 'date': '2006-02-01', 'shares': 95, 'price': 40.37}\n",
      "{'name': 'MSFT', 'date': '2006-10-31', 'shares': 50, 'price': 65.1}\n",
      "{'name': 'IBM', 'date': '2006-07-09', 'shares': 100, 'price': 70.44}\n"
     ]
    }
   ],
   "source": [
    "for holding in portfolio:\n",
    "    print(holding)"
   ]
  },
  {
   "cell_type": "code",
   "execution_count": 3,
   "metadata": {},
   "outputs": [
    {
     "ename": "TypeError",
     "evalue": "'<' not supported between instances of 'dict' and 'dict'",
     "output_type": "error",
     "traceback": [
      "\u001b[0;31m---------------------------------------------------------------------------\u001b[0m",
      "\u001b[0;31mTypeError\u001b[0m                                 Traceback (most recent call last)",
      "\u001b[0;32m<ipython-input-3-27d6675ec96b>\u001b[0m in \u001b[0;36m<module>\u001b[0;34m\u001b[0m\n\u001b[0;32m----> 1\u001b[0;31m \u001b[0mportfolio\u001b[0m\u001b[0;34m.\u001b[0m\u001b[0msort\u001b[0m\u001b[0;34m(\u001b[0m\u001b[0;34m)\u001b[0m\u001b[0;34m\u001b[0m\u001b[0;34m\u001b[0m\u001b[0m\n\u001b[0m",
      "\u001b[0;31mTypeError\u001b[0m: '<' not supported between instances of 'dict' and 'dict'"
     ]
    }
   ],
   "source": [
    "portfolio.sort()"
   ]
  },
  {
   "cell_type": "markdown",
   "metadata": {},
   "source": [
    "## sort by name"
   ]
  },
  {
   "cell_type": "code",
   "execution_count": 4,
   "metadata": {},
   "outputs": [],
   "source": [
    "def holding_name(holding):\n",
    "    return holding['name']"
   ]
  },
  {
   "cell_type": "code",
   "execution_count": 5,
   "metadata": {},
   "outputs": [
    {
     "data": {
      "text/plain": [
       "'AA'"
      ]
     },
     "execution_count": 5,
     "metadata": {},
     "output_type": "execute_result"
    }
   ],
   "source": [
    "holding_name({'name': 'AA', 'date': '2007-06-11', 'shares': 100, 'price': 32.2})"
   ]
  },
  {
   "cell_type": "code",
   "execution_count": 6,
   "metadata": {},
   "outputs": [
    {
     "data": {
      "text/plain": [
       "{'name': 'AA', 'date': '2007-06-11', 'shares': 100, 'price': 32.2}"
      ]
     },
     "execution_count": 6,
     "metadata": {},
     "output_type": "execute_result"
    }
   ],
   "source": [
    "portfolio[0]"
   ]
  },
  {
   "cell_type": "code",
   "execution_count": 7,
   "metadata": {},
   "outputs": [
    {
     "data": {
      "text/plain": [
       "'AA'"
      ]
     },
     "execution_count": 7,
     "metadata": {},
     "output_type": "execute_result"
    }
   ],
   "source": [
    "holding_name(portfolio[0])"
   ]
  },
  {
   "cell_type": "code",
   "execution_count": 8,
   "metadata": {},
   "outputs": [],
   "source": [
    "portfolio.sort(key=holding_name)"
   ]
  },
  {
   "cell_type": "code",
   "execution_count": 9,
   "metadata": {},
   "outputs": [
    {
     "data": {
      "text/plain": [
       "[{'name': 'AA', 'date': '2007-06-11', 'shares': 100, 'price': 32.2},\n",
       " {'name': 'CAT', 'date': '2006-09-23', 'shares': 150, 'price': 83.44},\n",
       " {'name': 'GE', 'date': '2006-02-01', 'shares': 95, 'price': 40.37},\n",
       " {'name': 'IBM', 'date': '2007-05-13', 'shares': 50, 'price': 91.1},\n",
       " {'name': 'IBM', 'date': '2006-07-09', 'shares': 100, 'price': 70.44},\n",
       " {'name': 'MSFT', 'date': '2007-05-17', 'shares': 200, 'price': 51.23},\n",
       " {'name': 'MSFT', 'date': '2006-10-31', 'shares': 50, 'price': 65.1}]"
      ]
     },
     "execution_count": 9,
     "metadata": {},
     "output_type": "execute_result"
    }
   ],
   "source": [
    "portfolio"
   ]
  },
  {
   "cell_type": "markdown",
   "metadata": {},
   "source": [
    "## sort by number of shares"
   ]
  },
  {
   "cell_type": "code",
   "execution_count": 12,
   "metadata": {},
   "outputs": [],
   "source": [
    "def holding_shares(holding):\n",
    "    return holding['shares']"
   ]
  },
  {
   "cell_type": "code",
   "execution_count": 13,
   "metadata": {},
   "outputs": [],
   "source": [
    "portfolio.sort(key=holding_shares)"
   ]
  },
  {
   "cell_type": "code",
   "execution_count": 14,
   "metadata": {},
   "outputs": [
    {
     "data": {
      "text/plain": [
       "[{'name': 'IBM', 'date': '2007-05-13', 'shares': 50, 'price': 91.1},\n",
       " {'name': 'MSFT', 'date': '2006-10-31', 'shares': 50, 'price': 65.1},\n",
       " {'name': 'GE', 'date': '2006-02-01', 'shares': 95, 'price': 40.37},\n",
       " {'name': 'AA', 'date': '2007-06-11', 'shares': 100, 'price': 32.2},\n",
       " {'name': 'IBM', 'date': '2006-07-09', 'shares': 100, 'price': 70.44},\n",
       " {'name': 'CAT', 'date': '2006-09-23', 'shares': 150, 'price': 83.44},\n",
       " {'name': 'MSFT', 'date': '2007-05-17', 'shares': 200, 'price': 51.23}]"
      ]
     },
     "execution_count": 14,
     "metadata": {},
     "output_type": "execute_result"
    }
   ],
   "source": [
    "portfolio"
   ]
  },
  {
   "cell_type": "markdown",
   "metadata": {},
   "source": [
    "## shortcut writing small functions"
   ]
  },
  {
   "cell_type": "code",
   "execution_count": 16,
   "metadata": {},
   "outputs": [],
   "source": [
    "def holding_name(holding):\n",
    "    return holding['name']"
   ]
  },
  {
   "cell_type": "code",
   "execution_count": 17,
   "metadata": {},
   "outputs": [
    {
     "data": {
      "text/plain": [
       "<function __main__.<lambda>(holding)>"
      ]
     },
     "execution_count": 17,
     "metadata": {},
     "output_type": "execute_result"
    }
   ],
   "source": [
    "lambda holding: holding['name']"
   ]
  },
  {
   "cell_type": "code",
   "execution_count": 18,
   "metadata": {},
   "outputs": [],
   "source": [
    "portfolio.sort(key=lambda holding: holding['name'])"
   ]
  },
  {
   "cell_type": "code",
   "execution_count": 19,
   "metadata": {},
   "outputs": [
    {
     "data": {
      "text/plain": [
       "[{'name': 'AA', 'date': '2007-06-11', 'shares': 100, 'price': 32.2},\n",
       " {'name': 'CAT', 'date': '2006-09-23', 'shares': 150, 'price': 83.44},\n",
       " {'name': 'GE', 'date': '2006-02-01', 'shares': 95, 'price': 40.37},\n",
       " {'name': 'IBM', 'date': '2007-05-13', 'shares': 50, 'price': 91.1},\n",
       " {'name': 'IBM', 'date': '2006-07-09', 'shares': 100, 'price': 70.44},\n",
       " {'name': 'MSFT', 'date': '2006-10-31', 'shares': 50, 'price': 65.1},\n",
       " {'name': 'MSFT', 'date': '2007-05-17', 'shares': 200, 'price': 51.23}]"
      ]
     },
     "execution_count": 19,
     "metadata": {},
     "output_type": "execute_result"
    }
   ],
   "source": [
    "portfolio"
   ]
  },
  {
   "cell_type": "code",
   "execution_count": 24,
   "metadata": {},
   "outputs": [],
   "source": [
    "def a(x):\n",
    "    return 10*x"
   ]
  },
  {
   "cell_type": "code",
   "execution_count": 25,
   "metadata": {},
   "outputs": [],
   "source": [
    "a = lambda x: 10*x"
   ]
  },
  {
   "cell_type": "code",
   "execution_count": 28,
   "metadata": {},
   "outputs": [
    {
     "data": {
      "text/plain": [
       "100"
      ]
     },
     "execution_count": 28,
     "metadata": {},
     "output_type": "execute_result"
    }
   ],
   "source": [
    "a(10)"
   ]
  },
  {
   "cell_type": "code",
   "execution_count": 26,
   "metadata": {},
   "outputs": [],
   "source": [
    "def b(x, y):\n",
    "     return x + y"
   ]
  },
  {
   "cell_type": "code",
   "execution_count": 27,
   "metadata": {},
   "outputs": [],
   "source": [
    "b = lambda x, y: x + y"
   ]
  },
  {
   "cell_type": "code",
   "execution_count": 29,
   "metadata": {},
   "outputs": [
    {
     "data": {
      "text/plain": [
       "5"
      ]
     },
     "execution_count": 29,
     "metadata": {},
     "output_type": "execute_result"
    }
   ],
   "source": [
    "b(2,3)"
   ]
  },
  {
   "cell_type": "code",
   "execution_count": 49,
   "metadata": {},
   "outputs": [],
   "source": [
    "portfolio.sort(key=lambda holding: holding['shares'])"
   ]
  },
  {
   "cell_type": "code",
   "execution_count": 32,
   "metadata": {},
   "outputs": [
    {
     "name": "stdout",
     "output_type": "stream",
     "text": [
      "{'name': 'IBM', 'date': '2007-05-13', 'shares': 50, 'price': 91.1}\n",
      "{'name': 'MSFT', 'date': '2006-10-31', 'shares': 50, 'price': 65.1}\n",
      "{'name': 'GE', 'date': '2006-02-01', 'shares': 95, 'price': 40.37}\n",
      "{'name': 'AA', 'date': '2007-06-11', 'shares': 100, 'price': 32.2}\n",
      "{'name': 'IBM', 'date': '2006-07-09', 'shares': 100, 'price': 70.44}\n",
      "{'name': 'CAT', 'date': '2006-09-23', 'shares': 150, 'price': 83.44}\n",
      "{'name': 'MSFT', 'date': '2007-05-17', 'shares': 200, 'price': 51.23}\n"
     ]
    }
   ],
   "source": [
    "for holding in portfolio:\n",
    "    print(holding)"
   ]
  },
  {
   "cell_type": "code",
   "execution_count": 36,
   "metadata": {},
   "outputs": [
    {
     "data": {
      "text/plain": [
       "{'name': 'AA', 'date': '2007-06-11', 'shares': 100, 'price': 32.2}"
      ]
     },
     "execution_count": 36,
     "metadata": {},
     "output_type": "execute_result"
    }
   ],
   "source": [
    "min(portfolio, key=lambda holding: holding['price'])"
   ]
  },
  {
   "cell_type": "code",
   "execution_count": 37,
   "metadata": {},
   "outputs": [
    {
     "data": {
      "text/plain": [
       "{'name': 'IBM', 'date': '2007-05-13', 'shares': 50, 'price': 91.1}"
      ]
     },
     "execution_count": 37,
     "metadata": {},
     "output_type": "execute_result"
    }
   ],
   "source": [
    "max(portfolio, key=lambda holding: holding['price'])"
   ]
  },
  {
   "cell_type": "markdown",
   "metadata": {},
   "source": [
    "# grouping portfolio"
   ]
  },
  {
   "cell_type": "code",
   "execution_count": 50,
   "metadata": {},
   "outputs": [
    {
     "data": {
      "text/plain": [
       "[{'name': 'IBM', 'date': '2007-05-13', 'shares': 50, 'price': 91.1},\n",
       " {'name': 'MSFT', 'date': '2006-10-31', 'shares': 50, 'price': 65.1},\n",
       " {'name': 'GE', 'date': '2006-02-01', 'shares': 95, 'price': 40.37},\n",
       " {'name': 'AA', 'date': '2007-06-11', 'shares': 100, 'price': 32.2},\n",
       " {'name': 'IBM', 'date': '2006-07-09', 'shares': 100, 'price': 70.44},\n",
       " {'name': 'CAT', 'date': '2006-09-23', 'shares': 150, 'price': 83.44},\n",
       " {'name': 'MSFT', 'date': '2007-05-17', 'shares': 200, 'price': 51.23}]"
      ]
     },
     "execution_count": 50,
     "metadata": {},
     "output_type": "execute_result"
    }
   ],
   "source": [
    "portfolio"
   ]
  },
  {
   "cell_type": "code",
   "execution_count": 59,
   "metadata": {},
   "outputs": [],
   "source": [
    "from collections import defaultdict"
   ]
  },
  {
   "cell_type": "code",
   "execution_count": 60,
   "metadata": {},
   "outputs": [],
   "source": [
    "by_name = defaultdict(list)"
   ]
  },
  {
   "cell_type": "code",
   "execution_count": 61,
   "metadata": {},
   "outputs": [],
   "source": [
    "for holding in portfolio:\n",
    "    by_name[holding['name']].append(holding)"
   ]
  },
  {
   "cell_type": "code",
   "execution_count": 62,
   "metadata": {},
   "outputs": [
    {
     "data": {
      "text/plain": [
       "defaultdict(list,\n",
       "            {'IBM': [{'name': 'IBM',\n",
       "               'date': '2007-05-13',\n",
       "               'shares': 50,\n",
       "               'price': 91.1},\n",
       "              {'name': 'IBM',\n",
       "               'date': '2006-07-09',\n",
       "               'shares': 100,\n",
       "               'price': 70.44}],\n",
       "             'MSFT': [{'name': 'MSFT',\n",
       "               'date': '2006-10-31',\n",
       "               'shares': 50,\n",
       "               'price': 65.1},\n",
       "              {'name': 'MSFT',\n",
       "               'date': '2007-05-17',\n",
       "               'shares': 200,\n",
       "               'price': 51.23}],\n",
       "             'GE': [{'name': 'GE',\n",
       "               'date': '2006-02-01',\n",
       "               'shares': 95,\n",
       "               'price': 40.37}],\n",
       "             'AA': [{'name': 'AA',\n",
       "               'date': '2007-06-11',\n",
       "               'shares': 100,\n",
       "               'price': 32.2}],\n",
       "             'CAT': [{'name': 'CAT',\n",
       "               'date': '2006-09-23',\n",
       "               'shares': 150,\n",
       "               'price': 83.44}]})"
      ]
     },
     "execution_count": 62,
     "metadata": {},
     "output_type": "execute_result"
    }
   ],
   "source": [
    "by_name"
   ]
  },
  {
   "cell_type": "code",
   "execution_count": 63,
   "metadata": {},
   "outputs": [
    {
     "data": {
      "text/plain": [
       "{'IBM': [{'name': 'IBM', 'date': '2007-05-13', 'shares': 50, 'price': 91.1},\n",
       "  {'name': 'IBM', 'date': '2006-07-09', 'shares': 100, 'price': 70.44}],\n",
       " 'MSFT': [{'name': 'MSFT', 'date': '2006-10-31', 'shares': 50, 'price': 65.1},\n",
       "  {'name': 'MSFT', 'date': '2007-05-17', 'shares': 200, 'price': 51.23}],\n",
       " 'GE': [{'name': 'GE', 'date': '2006-02-01', 'shares': 95, 'price': 40.37}],\n",
       " 'AA': [{'name': 'AA', 'date': '2007-06-11', 'shares': 100, 'price': 32.2}],\n",
       " 'CAT': [{'name': 'CAT', 'date': '2006-09-23', 'shares': 150, 'price': 83.44}]}"
      ]
     },
     "execution_count": 63,
     "metadata": {},
     "output_type": "execute_result"
    }
   ],
   "source": [
    "dict(by_name)"
   ]
  },
  {
   "cell_type": "code",
   "execution_count": 64,
   "metadata": {},
   "outputs": [
    {
     "data": {
      "text/plain": [
       "[{'name': 'IBM', 'date': '2007-05-13', 'shares': 50, 'price': 91.1},\n",
       " {'name': 'IBM', 'date': '2006-07-09', 'shares': 100, 'price': 70.44}]"
      ]
     },
     "execution_count": 64,
     "metadata": {},
     "output_type": "execute_result"
    }
   ],
   "source": [
    "by_name['IBM']"
   ]
  },
  {
   "cell_type": "code",
   "execution_count": null,
   "metadata": {},
   "outputs": [],
   "source": []
  }
 ],
 "metadata": {
  "kernelspec": {
   "display_name": "Python 3",
   "language": "python",
   "name": "python3"
  },
  "language_info": {
   "codemirror_mode": {
    "name": "ipython",
    "version": 3
   },
   "file_extension": ".py",
   "mimetype": "text/x-python",
   "name": "python",
   "nbconvert_exporter": "python",
   "pygments_lexer": "ipython3",
   "version": "3.7.5"
  }
 },
 "nbformat": 4,
 "nbformat_minor": 2
}
