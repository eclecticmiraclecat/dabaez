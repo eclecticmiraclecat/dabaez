{
 "cells": [
  {
   "cell_type": "code",
   "execution_count": 1,
   "metadata": {},
   "outputs": [],
   "source": [
    "def print_word(word, formatter):  \n",
    "    if not isinstance(formatter, WordFormatter):\n",
    "        raise TypeError('formatter must be a WordFormatter')\n",
    "        \n",
    "    formatter.headings(word)\n",
    "\n",
    "class WordFormatter:\n",
    "    def headings(self, word):\n",
    "        raise NotImplemented\n",
    "    \n",
    "class UpperWordFormatter(WordFormatter):\n",
    "    def headings(self, word):\n",
    "        print(f'{word.upper()}')\n",
    "        \n",
    "class HTMLWordFormatter(WordFormatter):\n",
    "    def headings(self, word):\n",
    "        print(f'<html>{word}</html>')\n",
    "        \n",
    "class CSVWordFormatter(WordFormatter):\n",
    "    def headings(self, word):\n",
    "        print(f',{word},')"
   ]
  },
  {
   "cell_type": "markdown",
   "metadata": {},
   "source": [
    "## Enforce people using headings, or heading typo"
   ]
  },
  {
   "cell_type": "code",
   "execution_count": 3,
   "metadata": {},
   "outputs": [],
   "source": [
    "from abc import ABC, abstractmethod\n",
    "\n",
    "def print_word(word, formatter):  \n",
    "    if not isinstance(formatter, WordFormatter):\n",
    "        raise TypeError('formatter must be a WordFormatter')\n",
    "        \n",
    "    formatter.headings(word)\n",
    "\n",
    "class WordFormatter(ABC):\n",
    "    @abstractmethod\n",
    "    def headings(self, word):\n",
    "        pass\n",
    "    \n",
    "class UpperWordFormatter(WordFormatter):\n",
    "    def heading(self, word):\n",
    "        print(f'{word.upper()}')\n",
    "        \n",
    "class HTMLWordFormatter(WordFormatter):\n",
    "    def headings(self, word):\n",
    "        print(f'<html>{word}</html>')\n",
    "        \n",
    "class CSVWordFormatter(WordFormatter):\n",
    "    def headings(self, word):\n",
    "        print(f',{word},')"
   ]
  },
  {
   "cell_type": "code",
   "execution_count": 4,
   "metadata": {},
   "outputs": [
    {
     "ename": "TypeError",
     "evalue": "Can't instantiate abstract class UpperWordFormatter with abstract methods headings",
     "output_type": "error",
     "traceback": [
      "\u001b[0;31m---------------------------------------------------------------------------\u001b[0m",
      "\u001b[0;31mTypeError\u001b[0m                                 Traceback (most recent call last)",
      "\u001b[0;32m<ipython-input-4-61367630cb6b>\u001b[0m in \u001b[0;36m<module>\u001b[0;34m\u001b[0m\n\u001b[0;32m----> 1\u001b[0;31m \u001b[0mformatter\u001b[0m \u001b[0;34m=\u001b[0m \u001b[0mUpperWordFormatter\u001b[0m\u001b[0;34m(\u001b[0m\u001b[0;34m)\u001b[0m\u001b[0;34m\u001b[0m\u001b[0;34m\u001b[0m\u001b[0m\n\u001b[0m",
      "\u001b[0;31mTypeError\u001b[0m: Can't instantiate abstract class UpperWordFormatter with abstract methods headings"
     ]
    }
   ],
   "source": [
    "formatter = UpperWordFormatter()"
   ]
  },
  {
   "cell_type": "code",
   "execution_count": null,
   "metadata": {},
   "outputs": [],
   "source": []
  }
 ],
 "metadata": {
  "kernelspec": {
   "display_name": "Python 3",
   "language": "python",
   "name": "python3"
  },
  "language_info": {
   "codemirror_mode": {
    "name": "ipython",
    "version": 3
   },
   "file_extension": ".py",
   "mimetype": "text/x-python",
   "name": "python",
   "nbconvert_exporter": "python",
   "pygments_lexer": "ipython3",
   "version": "3.7.5"
  }
 },
 "nbformat": 4,
 "nbformat_minor": 2
}
