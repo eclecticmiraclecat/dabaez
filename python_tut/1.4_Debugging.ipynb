{
 "cells": [
  {
   "cell_type": "markdown",
   "metadata": {},
   "source": [
    "## crash the program by making typo"
   ]
  },
  {
   "cell_type": "code",
   "execution_count": 2,
   "metadata": {},
   "outputs": [
    {
     "name": "stdout",
     "output_type": "stream",
     "text": [
      "# nextbus.py\r\n",
      "\r\n",
      "import sys\r\n",
      "\r\n",
      "if len(sys.argv) != 3:\r\n",
      "    raise SystemExit('Usage: nextbus.py route stopid')\r\n",
      "\r\n",
      "route = sys.argv[1]\r\n",
      "stopid = sys.argv[2]\r\n",
      "\r\n",
      "import urllib.request\r\n",
      "\r\n",
      "u = urllib.request.urlopen(f'http://ctabustracker.com/bustime/map/getStopPredictions.jsp?stop={stopid}&route={route}')\r\n",
      "data = u.read()\r\n",
      "\r\n",
      "from xml.etree.ElementTree import XML\r\n",
      "doc = XML(data)\r\n",
      "\r\n",
      "for pt in doc.findall('.//pt'):\r\n",
      "    print(pt.txt)\r\n"
     ]
    }
   ],
   "source": [
    "!cat nextbus.py"
   ]
  },
  {
   "cell_type": "code",
   "execution_count": 3,
   "metadata": {},
   "outputs": [
    {
     "name": "stdout",
     "output_type": "stream",
     "text": [
      "Traceback (most recent call last):\r\n",
      "  File \"nextbus.py\", line 20, in <module>\r\n",
      "    print(pt.txt)\r\n",
      "AttributeError: 'xml.etree.ElementTree.Element' object has no attribute 'txt'\r\n"
     ]
    }
   ],
   "source": [
    "!python nextbus.py 22 14787"
   ]
  },
  {
   "cell_type": "markdown",
   "metadata": {},
   "source": [
    "## make typo in the url"
   ]
  },
  {
   "cell_type": "code",
   "execution_count": 5,
   "metadata": {},
   "outputs": [
    {
     "name": "stdout",
     "output_type": "stream",
     "text": [
      "# nextbus.py\r\n",
      "\r\n",
      "import sys\r\n",
      "\r\n",
      "if len(sys.argv) != 3:\r\n",
      "    raise SystemExit('Usage: nextbus.py route stopid')\r\n",
      "\r\n",
      "route = sys.argv[1]\r\n",
      "stopid = sys.argv[2]\r\n",
      "\r\n",
      "import urllib.request\r\n",
      "\r\n",
      "u = urllib.request.urlopen(f'http://tabustracker.com/bustime/map/getStopPredictions.jsp?stop={stopid}&route={route}')\r\n",
      "data = u.read()\r\n",
      "\r\n",
      "from xml.etree.ElementTree import XML\r\n",
      "doc = XML(data)\r\n",
      "\r\n",
      "for pt in doc.findall('.//pt'):\r\n",
      "    print(pt.text)\r\n"
     ]
    }
   ],
   "source": [
    "!cat nextbus.py"
   ]
  },
  {
   "cell_type": "code",
   "execution_count": 6,
   "metadata": {},
   "outputs": [
    {
     "name": "stdout",
     "output_type": "stream",
     "text": [
      "Traceback (most recent call last):\r\n",
      "  File \"/usr/lib/python3.7/urllib/request.py\", line 1317, in do_open\r\n",
      "    encode_chunked=req.has_header('Transfer-encoding'))\r\n",
      "  File \"/usr/lib/python3.7/http/client.py\", line 1252, in request\r\n",
      "    self._send_request(method, url, body, headers, encode_chunked)\r\n",
      "  File \"/usr/lib/python3.7/http/client.py\", line 1298, in _send_request\r\n",
      "    self.endheaders(body, encode_chunked=encode_chunked)\r\n",
      "  File \"/usr/lib/python3.7/http/client.py\", line 1247, in endheaders\r\n",
      "    self._send_output(message_body, encode_chunked=encode_chunked)\r\n",
      "  File \"/usr/lib/python3.7/http/client.py\", line 1026, in _send_output\r\n",
      "    self.send(msg)\r\n",
      "  File \"/usr/lib/python3.7/http/client.py\", line 966, in send\r\n",
      "    self.connect()\r\n",
      "  File \"/usr/lib/python3.7/http/client.py\", line 938, in connect\r\n",
      "    (self.host,self.port), self.timeout, self.source_address)\r\n",
      "  File \"/usr/lib/python3.7/socket.py\", line 707, in create_connection\r\n",
      "    for res in getaddrinfo(host, port, 0, SOCK_STREAM):\r\n",
      "  File \"/usr/lib/python3.7/socket.py\", line 748, in getaddrinfo\r\n",
      "    for res in _socket.getaddrinfo(host, port, family, type, proto, flags):\r\n",
      "socket.gaierror: [Errno -2] Name or service not known\r\n",
      "\r\n",
      "During handling of the above exception, another exception occurred:\r\n",
      "\r\n",
      "Traceback (most recent call last):\r\n",
      "  File \"nextbus.py\", line 13, in <module>\r\n",
      "    u = urllib.request.urlopen(f'http://tabustracker.com/bustime/map/getStopPredictions.jsp?stop={stopid}&route={route}')\r\n",
      "  File \"/usr/lib/python3.7/urllib/request.py\", line 222, in urlopen\r\n",
      "    return opener.open(url, data, timeout)\r\n",
      "  File \"/usr/lib/python3.7/urllib/request.py\", line 525, in open\r\n",
      "    response = self._open(req, data)\r\n",
      "  File \"/usr/lib/python3.7/urllib/request.py\", line 543, in _open\r\n",
      "    '_open', req)\r\n",
      "  File \"/usr/lib/python3.7/urllib/request.py\", line 503, in _call_chain\r\n",
      "    result = func(*args)\r\n",
      "  File \"/usr/lib/python3.7/urllib/request.py\", line 1345, in http_open\r\n",
      "    return self.do_open(http.client.HTTPConnection, req)\r\n",
      "  File \"/usr/lib/python3.7/urllib/request.py\", line 1319, in do_open\r\n",
      "    raise URLError(err)\r\n",
      "urllib.error.URLError: <urlopen error [Errno -2] Name or service not known>\r\n"
     ]
    }
   ],
   "source": [
    "!python nextbus.py 22 14787"
   ]
  },
  {
   "cell_type": "markdown",
   "metadata": {},
   "source": [
    "# pdb"
   ]
  },
  {
   "cell_type": "code",
   "execution_count": null,
   "metadata": {},
   "outputs": [
    {
     "name": "stdout",
     "output_type": "stream",
     "text": [
      "--Call--\n",
      "> /home/benedict/venvs/notebook/lib/python3.7/site-packages/IPython/core/displayhook.py(252)__call__()\n",
      "-> def __call__(self, result=None):\n"
     ]
    }
   ],
   "source": [
    "import pdb; pdb.set_trace()"
   ]
  },
  {
   "cell_type": "code",
   "execution_count": null,
   "metadata": {},
   "outputs": [],
   "source": []
  }
 ],
 "metadata": {
  "kernelspec": {
   "display_name": "Python 3",
   "language": "python",
   "name": "python3"
  },
  "language_info": {
   "codemirror_mode": {
    "name": "ipython",
    "version": 3
   },
   "file_extension": ".py",
   "mimetype": "text/x-python",
   "name": "python",
   "nbconvert_exporter": "python",
   "pygments_lexer": "ipython3",
   "version": "3.7.5"
  }
 },
 "nbformat": 4,
 "nbformat_minor": 2
}
