{
 "cells": [
  {
   "cell_type": "code",
   "execution_count": 1,
   "metadata": {},
   "outputs": [],
   "source": [
    "import urllib.request"
   ]
  },
  {
   "cell_type": "code",
   "execution_count": 9,
   "metadata": {},
   "outputs": [],
   "source": [
    "u = urllib.request.urlopen('http://ctabustracker.com/bustime/map/getStopPredictions.jsp?stop=14787&route=22')"
   ]
  },
  {
   "cell_type": "code",
   "execution_count": 10,
   "metadata": {},
   "outputs": [],
   "source": [
    "data = u.read()"
   ]
  },
  {
   "cell_type": "code",
   "execution_count": 11,
   "metadata": {},
   "outputs": [
    {
     "data": {
      "text/plain": [
       "b'<?xml version=\"1.0\" encoding=\"UTF-8\"?>\\r\\n\\r\\n\\r\\n\\r\\n\\r\\n\\r\\n\\r\\n\\r\\n\\r\\n\\r\\n\\r\\n\\r\\n\\r\\n\\r\\n\\r\\n\\r\\n\\r\\n\\r\\n\\r\\n\\r\\n\\r\\n\\r\\n\\r\\n\\r\\n\\r\\n\\r\\n\\r\\n\\r\\n\\r\\n\\r\\n\\r\\n\\r\\n\\r\\n\\r\\n\\r\\n\\r\\n\\r\\n\\r\\n\\r\\n\\r\\n\\r\\n\\r\\n\\r\\n\\r\\n\\r\\n\\r\\n\\r\\n\\r\\n\\r\\n\\r\\n\\r\\n<stop>\\r\\n\\r\\n\\t<id>14787</id> \\r\\n\\t<rtpiFeedName></rtpiFeedName>\\r\\n\\t<nm>Clark &amp; Balmoral</nm>\\r\\n\\t\\r\\n\\r\\n\\t<sri>\\r\\n\\t\\t<rt>22</rt> \\r\\n\\t\\t<rtRtpiFeedName></rtRtpiFeedName>\\r\\n\\t\\t<rd>22</rd>\\t\\t\\r\\n\\t\\t<d>Southbound</d> \\r\\n\\t\\t<dd>Southbound</dd>   \\r\\n\\t\\t<dRtpiFeedName></dRtpiFeedName>\\r\\n\\t</sri>\\r\\n\\r\\n\\t<sbs>\\r\\n\\r\\n\\r\\n\\t</sbs>\\r\\n\\t\\r\\n\\r\\n\\t<cr>22</cr>\\r\\n\\t<crRtpiFeedName></crRtpiFeedName>\\r\\n\\r\\n\\t<pre>\\r\\n\\r\\n\\t\\t<pt>11 MIN</pt>\\r\\n\\r\\n\\t\\t<fd>Harrison</fd>\\r\\n\\r\\n\\t\\t<v>1904</v>\\r\\n\\t\\t<scheduled>false</scheduled>\\t\\t\\r\\n\\r\\n\\t\\t<rn>22</rn> \\r\\n\\t\\t<rd>22</rd> \\t\\t\\r\\n\\r\\n\\t\\t\\r\\n\\t\\t<m>1</m>\\t\\r\\n\\t\\t<consist></consist>    \\r\\n\\t\\t<cars></cars> \\r\\n\\t\\t    \\t\\r\\n\\t</pre>\\r\\n\\r\\n\\r\\n</stop>\\r\\n'"
      ]
     },
     "execution_count": 11,
     "metadata": {},
     "output_type": "execute_result"
    }
   ],
   "source": [
    "data"
   ]
  },
  {
   "cell_type": "code",
   "execution_count": 12,
   "metadata": {},
   "outputs": [],
   "source": [
    "from xml.etree.ElementTree import XML"
   ]
  },
  {
   "cell_type": "code",
   "execution_count": 13,
   "metadata": {},
   "outputs": [],
   "source": [
    "doc = XML(data)"
   ]
  },
  {
   "cell_type": "code",
   "execution_count": 14,
   "metadata": {},
   "outputs": [
    {
     "data": {
      "text/plain": [
       "<Element 'stop' at 0x7fd9d3c10350>"
      ]
     },
     "execution_count": 14,
     "metadata": {},
     "output_type": "execute_result"
    }
   ],
   "source": [
    "doc"
   ]
  },
  {
   "cell_type": "code",
   "execution_count": 15,
   "metadata": {},
   "outputs": [
    {
     "name": "stdout",
     "output_type": "stream",
     "text": [
      "11 MIN\n"
     ]
    }
   ],
   "source": [
    "for pt in doc.findall('.//pt'):\n",
    "    print(pt.text)"
   ]
  },
  {
   "cell_type": "code",
   "execution_count": 16,
   "metadata": {},
   "outputs": [
    {
     "name": "stdout",
     "output_type": "stream",
     "text": [
      "# nextbus.py\r\n",
      "\r\n",
      "import urllib.request\r\n",
      "\r\n",
      "u = urllib.request.urlopen('http://ctabustracker.com/bustime/map/getStopPredictions.jsp?stop=14787&route=22')\r\n",
      "data = u.read()\r\n",
      "\r\n",
      "from xml.etree.ElementTree import XML\r\n",
      "doc = XML(data)\r\n",
      "\r\n",
      "for pt in doc.findall('.//pt'):\r\n",
      "    print(pt.text)\r\n"
     ]
    }
   ],
   "source": [
    "!cat nextbus.py"
   ]
  },
  {
   "cell_type": "code",
   "execution_count": 18,
   "metadata": {},
   "outputs": [
    {
     "name": "stdout",
     "output_type": "stream",
     "text": [
      "10 MIN\r\n"
     ]
    }
   ],
   "source": [
    "!python nextbus.py"
   ]
  },
  {
   "cell_type": "code",
   "execution_count": null,
   "metadata": {},
   "outputs": [],
   "source": []
  }
 ],
 "metadata": {
  "kernelspec": {
   "display_name": "Python 3",
   "language": "python",
   "name": "python3"
  },
  "language_info": {
   "codemirror_mode": {
    "name": "ipython",
    "version": 3
   },
   "file_extension": ".py",
   "mimetype": "text/x-python",
   "name": "python",
   "nbconvert_exporter": "python",
   "pygments_lexer": "ipython3",
   "version": "3.7.5"
  }
 },
 "nbformat": 4,
 "nbformat_minor": 2
}
