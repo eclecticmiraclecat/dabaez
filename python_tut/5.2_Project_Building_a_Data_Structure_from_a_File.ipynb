{
 "cells": [
  {
   "cell_type": "code",
   "execution_count": 1,
   "metadata": {},
   "outputs": [
    {
     "name": "stdout",
     "output_type": "stream",
     "text": [
      "# port.py\r\n",
      "\r\n",
      "import csv\r\n",
      "\r\n",
      "def portfolio_cost(filename, *, errors='warn'):\r\n",
      "    '''\r\n",
      "    Computes total shares*price for a CSV file with name, date, shares, price data\r\n",
      "    '''\r\n",
      "    if errors not in {'warn', 'silent', 'raise'}:\r\n",
      "        raise ValueError(\"errors must be one of 'warn', 'silent', 'raise'\")\r\n",
      "\r\n",
      "    total = 0.0\r\n",
      "    with open(filename, 'r') as f:\r\n",
      "        rows = csv.reader(f)\r\n",
      "        headers = next(rows)        # Skip the header row\r\n",
      "        for rowno, row in enumerate(rows, start=1):\r\n",
      "            try:\r\n",
      "                row[2] = int(row[2])\r\n",
      "                row[3] = float(row[3])\r\n",
      "                total += row[2]*row[3]\r\n",
      "            except ValueError as err:    # Catches all errors (dangerous)\r\n",
      "                if errors == 'warn':\r\n",
      "                    print('Row:', rowno, 'Bad row:', row)\r\n",
      "                    print('Row:', rowno, 'Reason:', err)\r\n",
      "                elif errors == 'raise':\r\n",
      "                    raise           # Reraises the last exception\r\n",
      "                else:\r\n",
      "                    pass            # Ignore\r\n",
      "    return total\r\n",
      "\r\n",
      "total = portfolio_cost('Data/missing.csv', errors='silent')\r\n",
      "print('Total cost:', total)\r\n"
     ]
    }
   ],
   "source": [
    "!cat port.py"
   ]
  },
  {
   "cell_type": "markdown",
   "metadata": {},
   "source": [
    "# read the data into a data structure"
   ]
  },
  {
   "cell_type": "markdown",
   "metadata": {},
   "source": [
    "## tuple"
   ]
  },
  {
   "cell_type": "code",
   "execution_count": 2,
   "metadata": {},
   "outputs": [
    {
     "name": "stdout",
     "output_type": "stream",
     "text": [
      "# port.py\r\n",
      "\r\n",
      "import csv\r\n",
      "\r\n",
      "def read_portfolio(filename, *, errors='warn'):\r\n",
      "    '''\r\n",
      "    Read a CSV file with name, date, shares, price data into a list\r\n",
      "    '''\r\n",
      "    if errors not in {'warn', 'silent', 'raise'}:\r\n",
      "        raise ValueError(\"errors must be one of 'warn', 'silent', 'raise'\")\r\n",
      "\r\n",
      "    portfolio = []                  # List of records\r\n",
      "\r\n",
      "    with open(filename, 'r') as f:\r\n",
      "        rows = csv.reader(f)\r\n",
      "        headers = next(rows)        # Skip the header row\r\n",
      "        for rowno, row in enumerate(rows, start=1):\r\n",
      "            try:\r\n",
      "                row[2] = int(row[2])\r\n",
      "                row[3] = float(row[3])\r\n",
      "            except ValueError as err:    # Catches all errors (dangerous)\r\n",
      "                if errors == 'warn':\r\n",
      "                    print('Row:', rowno, 'Bad row:', row)\r\n",
      "                    print('Row:', rowno, 'Reason:', err)\r\n",
      "                elif errors == 'raise':\r\n",
      "                    raise           # Reraises the last exception\r\n",
      "                else:\r\n",
      "                    pass            # Ignore\r\n",
      "            # record = (row[0], row[1], row[2], row[3])\r\n",
      "            record = tuple(row)\r\n",
      "            portfolio.append(record)\r\n",
      "    return portfolio\r\n",
      "\r\n",
      "portfolio = read_portfolio('Data/portfolio.csv')\r\n",
      "print(portfolio)\r\n",
      "\r\n",
      "#total = portfolio_cost('Data/missing.csv', errors='silent')\r\n",
      "#print('Total cost:', total)\r\n"
     ]
    }
   ],
   "source": [
    "!cat port.py"
   ]
  },
  {
   "cell_type": "code",
   "execution_count": 3,
   "metadata": {},
   "outputs": [
    {
     "name": "stdout",
     "output_type": "stream",
     "text": [
      "[('AA', '2007-06-11', 100, 32.2), ('IBM', '2007-05-13', 50, 91.1), ('CAT', '2006-09-23', 150, 83.44), ('MSFT', '2007-05-17', 200, 51.23), ('GE', '2006-02-01', 95, 40.37), ('MSFT', '2006-10-31', 50, 65.1), ('IBM', '2006-07-09', 100, 70.44)]\r\n"
     ]
    }
   ],
   "source": [
    "!python port.py"
   ]
  },
  {
   "cell_type": "code",
   "execution_count": 6,
   "metadata": {},
   "outputs": [],
   "source": [
    "from port import *"
   ]
  },
  {
   "cell_type": "code",
   "execution_count": 7,
   "metadata": {},
   "outputs": [
    {
     "data": {
      "text/plain": [
       "[('AA', '2007-06-11', 100, 32.2),\n",
       " ('IBM', '2007-05-13', 50, 91.1),\n",
       " ('CAT', '2006-09-23', 150, 83.44),\n",
       " ('MSFT', '2007-05-17', 200, 51.23),\n",
       " ('GE', '2006-02-01', 95, 40.37),\n",
       " ('MSFT', '2006-10-31', 50, 65.1),\n",
       " ('IBM', '2006-07-09', 100, 70.44)]"
      ]
     },
     "execution_count": 7,
     "metadata": {},
     "output_type": "execute_result"
    }
   ],
   "source": [
    "portfolio"
   ]
  },
  {
   "cell_type": "code",
   "execution_count": 8,
   "metadata": {},
   "outputs": [
    {
     "data": {
      "text/plain": [
       "7"
      ]
     },
     "execution_count": 8,
     "metadata": {},
     "output_type": "execute_result"
    }
   ],
   "source": [
    "len(portfolio)"
   ]
  },
  {
   "cell_type": "code",
   "execution_count": 9,
   "metadata": {},
   "outputs": [
    {
     "data": {
      "text/plain": [
       "('AA', '2007-06-11', 100, 32.2)"
      ]
     },
     "execution_count": 9,
     "metadata": {},
     "output_type": "execute_result"
    }
   ],
   "source": [
    "portfolio[0]"
   ]
  },
  {
   "cell_type": "code",
   "execution_count": 10,
   "metadata": {},
   "outputs": [
    {
     "data": {
      "text/plain": [
       "('IBM', '2007-05-13', 50, 91.1)"
      ]
     },
     "execution_count": 10,
     "metadata": {},
     "output_type": "execute_result"
    }
   ],
   "source": [
    "portfolio[1]"
   ]
  },
  {
   "cell_type": "code",
   "execution_count": 11,
   "metadata": {},
   "outputs": [
    {
     "name": "stdout",
     "output_type": "stream",
     "text": [
      "# port.py\r\n",
      "\r\n",
      "import csv\r\n",
      "\r\n",
      "def read_portfolio(filename, *, errors='warn'):\r\n",
      "    '''\r\n",
      "    Read a CSV file with name, date, shares, price data into a list\r\n",
      "    '''\r\n",
      "    if errors not in {'warn', 'silent', 'raise'}:\r\n",
      "        raise ValueError(\"errors must be one of 'warn', 'silent', 'raise'\")\r\n",
      "\r\n",
      "    portfolio = []                  # List of records\r\n",
      "\r\n",
      "    with open(filename, 'r') as f:\r\n",
      "        rows = csv.reader(f)\r\n",
      "        headers = next(rows)        # Skip the header row\r\n",
      "        for rowno, row in enumerate(rows, start=1):\r\n",
      "            try:\r\n",
      "                row[2] = int(row[2])\r\n",
      "                row[3] = float(row[3])\r\n",
      "            except ValueError as err:    # Catches all errors (dangerous)\r\n",
      "                if errors == 'warn':\r\n",
      "                    print('Row:', rowno, 'Bad row:', row)\r\n",
      "                    print('Row:', rowno, 'Reason:', err)\r\n",
      "                elif errors == 'raise':\r\n",
      "                    raise           # Reraises the last exception\r\n",
      "                else:\r\n",
      "                    pass            # Ignore\r\n",
      "            # record = (row[0], row[1], row[2], row[3])\r\n",
      "            record = tuple(row)\r\n",
      "            portfolio.append(record)\r\n",
      "    return portfolio\r\n",
      "\r\n",
      "portfolio = read_portfolio('Data/portfolio.csv')\r\n",
      "\r\n",
      "total = 0.0\r\n",
      "for holding in portfolio:\r\n",
      "    total += holding[2] * holding[3]    # shares * price\r\n",
      "\r\n",
      "print('Total cost:', total)\r\n"
     ]
    }
   ],
   "source": [
    "!cat port.py"
   ]
  },
  {
   "cell_type": "code",
   "execution_count": 12,
   "metadata": {},
   "outputs": [
    {
     "name": "stdout",
     "output_type": "stream",
     "text": [
      "Total cost: 44671.15\r\n"
     ]
    }
   ],
   "source": [
    "!python port.py"
   ]
  },
  {
   "cell_type": "markdown",
   "metadata": {},
   "source": [
    "# hard code indexes are not readable\n",
    "- ### holding[2] * holding[3]"
   ]
  },
  {
   "cell_type": "markdown",
   "metadata": {},
   "source": [
    "## use unpacking"
   ]
  },
  {
   "cell_type": "code",
   "execution_count": 13,
   "metadata": {},
   "outputs": [
    {
     "name": "stdout",
     "output_type": "stream",
     "text": [
      "# port.py\r\n",
      "\r\n",
      "import csv\r\n",
      "\r\n",
      "def read_portfolio(filename, *, errors='warn'):\r\n",
      "    '''\r\n",
      "    Read a CSV file with name, date, shares, price data into a list\r\n",
      "    '''\r\n",
      "    if errors not in {'warn', 'silent', 'raise'}:\r\n",
      "        raise ValueError(\"errors must be one of 'warn', 'silent', 'raise'\")\r\n",
      "\r\n",
      "    portfolio = []                  # List of records\r\n",
      "\r\n",
      "    with open(filename, 'r') as f:\r\n",
      "        rows = csv.reader(f)\r\n",
      "        headers = next(rows)        # Skip the header row\r\n",
      "        for rowno, row in enumerate(rows, start=1):\r\n",
      "            try:\r\n",
      "                row[2] = int(row[2])\r\n",
      "                row[3] = float(row[3])\r\n",
      "            except ValueError as err:    # Catches all errors (dangerous)\r\n",
      "                if errors == 'warn':\r\n",
      "                    print('Row:', rowno, 'Bad row:', row)\r\n",
      "                    print('Row:', rowno, 'Reason:', err)\r\n",
      "                elif errors == 'raise':\r\n",
      "                    raise           # Reraises the last exception\r\n",
      "                else:\r\n",
      "                    pass            # Ignore\r\n",
      "            # record = (row[0], row[1], row[2], row[3])\r\n",
      "            record = tuple(row)\r\n",
      "            portfolio.append(record)\r\n",
      "    return portfolio\r\n",
      "\r\n",
      "portfolio = read_portfolio('Data/portfolio.csv')\r\n",
      "\r\n",
      "total = 0.0\r\n",
      "for name, date, shares, price in portfolio:\r\n",
      "    total += shares * price   # shares * price\r\n",
      "\r\n",
      "print('Total cost:', total)\r\n"
     ]
    }
   ],
   "source": [
    "!cat port.py"
   ]
  },
  {
   "cell_type": "code",
   "execution_count": 14,
   "metadata": {},
   "outputs": [
    {
     "name": "stdout",
     "output_type": "stream",
     "text": [
      "Total cost: 44671.15\r\n"
     ]
    }
   ],
   "source": [
    "!python port.py"
   ]
  },
  {
   "cell_type": "markdown",
   "metadata": {},
   "source": [
    "## problem with unpacking\n",
    "1. ### need to unpack all the values\n",
    "2. ### if got multiple columns?"
   ]
  },
  {
   "cell_type": "markdown",
   "metadata": {},
   "source": [
    "## represent the record using dictionary"
   ]
  },
  {
   "cell_type": "code",
   "execution_count": 15,
   "metadata": {},
   "outputs": [
    {
     "name": "stdout",
     "output_type": "stream",
     "text": [
      "# port.py\r\n",
      "\r\n",
      "import csv\r\n",
      "\r\n",
      "def read_portfolio(filename, *, errors='warn'):\r\n",
      "    '''\r\n",
      "    Read a CSV file with name, date, shares, price data into a list\r\n",
      "    '''\r\n",
      "    if errors not in {'warn', 'silent', 'raise'}:\r\n",
      "        raise ValueError(\"errors must be one of 'warn', 'silent', 'raise'\")\r\n",
      "\r\n",
      "    portfolio = []                  # List of records\r\n",
      "\r\n",
      "    with open(filename, 'r') as f:\r\n",
      "        rows = csv.reader(f)\r\n",
      "        headers = next(rows)        # Skip the header row\r\n",
      "        for rowno, row in enumerate(rows, start=1):\r\n",
      "            try:\r\n",
      "                row[2] = int(row[2])\r\n",
      "                row[3] = float(row[3])\r\n",
      "            except ValueError as err:    # Catches all errors (dangerous)\r\n",
      "                if errors == 'warn':\r\n",
      "                    print('Row:', rowno, 'Bad row:', row)\r\n",
      "                    print('Row:', rowno, 'Reason:', err)\r\n",
      "                elif errors == 'raise':\r\n",
      "                    raise           # Reraises the last exception\r\n",
      "                else:\r\n",
      "                    pass            # Ignore\r\n",
      "            record = {\r\n",
      "                'name': row[0],\r\n",
      "                'date': row[1],\r\n",
      "                'shares': row[2],\r\n",
      "                'price': row[3]\r\n",
      "            }\r\n",
      "            portfolio.append(record)\r\n",
      "    return portfolio\r\n",
      "\r\n",
      "portfolio = read_portfolio('Data/portfolio.csv')\r\n",
      "\r\n",
      "total = 0.0\r\n",
      "for holding in portfolio:\r\n",
      "    total += holding['shares'] * holding['price']   # shares * price\r\n",
      "\r\n",
      "print('Total cost:', total)\r\n"
     ]
    }
   ],
   "source": [
    "!cat port.py"
   ]
  },
  {
   "cell_type": "code",
   "execution_count": 16,
   "metadata": {},
   "outputs": [
    {
     "name": "stdout",
     "output_type": "stream",
     "text": [
      "Total cost: 44671.15\r\n"
     ]
    }
   ],
   "source": [
    "!python port.py"
   ]
  },
  {
   "cell_type": "markdown",
   "metadata": {},
   "source": [
    "## dictionary plays well with other programming languages"
   ]
  },
  {
   "cell_type": "code",
   "execution_count": 1,
   "metadata": {},
   "outputs": [
    {
     "name": "stdout",
     "output_type": "stream",
     "text": [
      "Total cost: 44671.15\n"
     ]
    }
   ],
   "source": [
    "from port import *"
   ]
  },
  {
   "cell_type": "code",
   "execution_count": 2,
   "metadata": {},
   "outputs": [],
   "source": [
    "import json"
   ]
  },
  {
   "cell_type": "code",
   "execution_count": 3,
   "metadata": {},
   "outputs": [],
   "source": [
    "data = json.dumps(portfolio)"
   ]
  },
  {
   "cell_type": "code",
   "execution_count": 4,
   "metadata": {},
   "outputs": [
    {
     "data": {
      "text/plain": [
       "'[{\"name\": \"AA\", \"date\": \"2007-06-11\", \"shares\": 100, \"price\": 32.2}, {\"name\": \"IBM\", \"date\": \"2007-05-13\", \"shares\": 50, \"price\": 91.1}, {\"name\": \"CAT\", \"date\": \"2006-09-23\", \"shares\": 150, \"price\": 83.44}, {\"name\": \"MSFT\", \"date\": \"2007-05-17\", \"shares\": 200, \"price\": 51.23}, {\"name\": \"GE\", \"date\": \"2006-02-01\", \"shares\": 95, \"price\": 40.37}, {\"name\": \"MSFT\", \"date\": \"2006-10-31\", \"shares\": 50, \"price\": 65.1}, {\"name\": \"IBM\", \"date\": \"2006-07-09\", \"shares\": 100, \"price\": 70.44}]'"
      ]
     },
     "execution_count": 4,
     "metadata": {},
     "output_type": "execute_result"
    }
   ],
   "source": [
    "data"
   ]
  },
  {
   "cell_type": "code",
   "execution_count": 5,
   "metadata": {},
   "outputs": [],
   "source": [
    "port = json.loads(data)"
   ]
  },
  {
   "cell_type": "code",
   "execution_count": 6,
   "metadata": {},
   "outputs": [
    {
     "data": {
      "text/plain": [
       "[{'name': 'AA', 'date': '2007-06-11', 'shares': 100, 'price': 32.2},\n",
       " {'name': 'IBM', 'date': '2007-05-13', 'shares': 50, 'price': 91.1},\n",
       " {'name': 'CAT', 'date': '2006-09-23', 'shares': 150, 'price': 83.44},\n",
       " {'name': 'MSFT', 'date': '2007-05-17', 'shares': 200, 'price': 51.23},\n",
       " {'name': 'GE', 'date': '2006-02-01', 'shares': 95, 'price': 40.37},\n",
       " {'name': 'MSFT', 'date': '2006-10-31', 'shares': 50, 'price': 65.1},\n",
       " {'name': 'IBM', 'date': '2006-07-09', 'shares': 100, 'price': 70.44}]"
      ]
     },
     "execution_count": 6,
     "metadata": {},
     "output_type": "execute_result"
    }
   ],
   "source": [
    "port"
   ]
  },
  {
   "cell_type": "code",
   "execution_count": null,
   "metadata": {},
   "outputs": [],
   "source": []
  }
 ],
 "metadata": {
  "kernelspec": {
   "display_name": "Python 3",
   "language": "python",
   "name": "python3"
  },
  "language_info": {
   "codemirror_mode": {
    "name": "ipython",
    "version": 3
   },
   "file_extension": ".py",
   "mimetype": "text/x-python",
   "name": "python",
   "nbconvert_exporter": "python",
   "pygments_lexer": "ipython3",
   "version": "3.7.5"
  }
 },
 "nbformat": 4,
 "nbformat_minor": 2
}
