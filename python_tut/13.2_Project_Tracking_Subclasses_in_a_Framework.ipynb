{
 "cells": [
  {
   "cell_type": "markdown",
   "metadata": {},
   "source": [
    "# 13.2_Project_Tracking_Subclasses_in_a_Framework"
   ]
  },
  {
   "cell_type": "code",
   "execution_count": null,
   "metadata": {},
   "outputs": [],
   "source": [
    "from abc import ABC, abstractmethod\n",
    "\n",
    "def print_word(word, formatter):  \n",
    "    if not isinstance(formatter, WordFormatter):\n",
    "        raise TypeError('formatter must be a WordFormatter')\n",
    "        \n",
    "    formatter.headings(word)\n",
    "\n",
    "class WordFormatter(ABC):\n",
    "    @abstractmethod\n",
    "    def headings(self, word):\n",
    "        pass\n",
    "    \n",
    "class UpperWordFormatter(WordFormatter):\n",
    "    def headings(self, word):\n",
    "        print(f'{word.upper()}')\n",
    "        \n",
    "class HTMLWordFormatter(WordFormatter):\n",
    "    def headings(self, word):\n",
    "        print(f'<html>{word}</html>')\n",
    "        \n",
    "class CSVWordFormatter(WordFormatter):\n",
    "    def headings(self, word):\n",
    "        print(f',{word},')"
   ]
  },
  {
   "cell_type": "code",
   "execution_count": 16,
   "metadata": {},
   "outputs": [],
   "source": [
    "formatter = UpperWordFormatter()"
   ]
  },
  {
   "cell_type": "code",
   "execution_count": 17,
   "metadata": {},
   "outputs": [
    {
     "name": "stdout",
     "output_type": "stream",
     "text": [
      "HI\n"
     ]
    }
   ],
   "source": [
    "print_word('hi', formatter)"
   ]
  },
  {
   "cell_type": "code",
   "execution_count": 18,
   "metadata": {},
   "outputs": [],
   "source": [
    "formatter = HTMLWordFormatter()"
   ]
  },
  {
   "cell_type": "code",
   "execution_count": 19,
   "metadata": {},
   "outputs": [
    {
     "name": "stdout",
     "output_type": "stream",
     "text": [
      "<html>hi</html>\n"
     ]
    }
   ],
   "source": [
    "print_word('hi', formatter)"
   ]
  },
  {
   "cell_type": "code",
   "execution_count": 20,
   "metadata": {},
   "outputs": [],
   "source": [
    "formatter = CSVWordFormatter()"
   ]
  },
  {
   "cell_type": "code",
   "execution_count": 21,
   "metadata": {},
   "outputs": [
    {
     "name": "stdout",
     "output_type": "stream",
     "text": [
      ",hi,\n"
     ]
    }
   ],
   "source": [
    "print_word('hi', formatter)"
   ]
  },
  {
   "cell_type": "markdown",
   "metadata": {},
   "source": [
    "## what happens if have a lot of formatter, will become hard to manage"
   ]
  },
  {
   "cell_type": "markdown",
   "metadata": {},
   "source": [
    "#### create a factory function but has many if elses"
   ]
  },
  {
   "cell_type": "code",
   "execution_count": 26,
   "metadata": {},
   "outputs": [],
   "source": [
    "from abc import ABC, abstractmethod\n",
    "\n",
    "def print_word(word, formatter):  \n",
    "    if not isinstance(formatter, WordFormatter):\n",
    "        raise TypeError('formatter must be a WordFormatter')\n",
    "        \n",
    "    formatter.headings(word)\n",
    "\n",
    "class WordFormatter(ABC):\n",
    "    @abstractmethod\n",
    "    def headings(self, word):\n",
    "        pass\n",
    "    \n",
    "class UpperWordFormatter(WordFormatter):\n",
    "    def headings(self, word):\n",
    "        print(f'{word.upper()}')\n",
    "        \n",
    "class HTMLWordFormatter(WordFormatter):\n",
    "    def headings(self, word):\n",
    "        print(f'<html>{word}</html>')\n",
    "        \n",
    "class CSVWordFormatter(WordFormatter):\n",
    "    def headings(self, word):\n",
    "        print(f',{word},')\n",
    "        \n",
    "def create_formatter(name):\n",
    "    if name == 'upper':\n",
    "        formatter = UpperWordFormatter\n",
    "    elif name == 'csv':\n",
    "        formatter = CSVWordFormatter\n",
    "    elif name == 'html':\n",
    "        formatter = HTMLWordFormatter\n",
    "    else:\n",
    "        raise ValueError(f'Unknown format {name}')\n",
    "    return formatter()"
   ]
  },
  {
   "cell_type": "code",
   "execution_count": 27,
   "metadata": {},
   "outputs": [],
   "source": [
    "formatter = create_formatter('upper')"
   ]
  },
  {
   "cell_type": "code",
   "execution_count": 28,
   "metadata": {},
   "outputs": [
    {
     "data": {
      "text/plain": [
       "<__main__.UpperWordFormatter at 0x7f4dc5b80910>"
      ]
     },
     "execution_count": 28,
     "metadata": {},
     "output_type": "execute_result"
    }
   ],
   "source": [
    "formatter"
   ]
  },
  {
   "cell_type": "code",
   "execution_count": 29,
   "metadata": {},
   "outputs": [
    {
     "name": "stdout",
     "output_type": "stream",
     "text": [
      "HI\n"
     ]
    }
   ],
   "source": [
    "print_word('hi', formatter)"
   ]
  },
  {
   "cell_type": "markdown",
   "metadata": {},
   "source": [
    "## create a dictionary instead\n",
    "### problem: how to get things into dictionary"
   ]
  },
  {
   "cell_type": "code",
   "execution_count": 30,
   "metadata": {},
   "outputs": [],
   "source": [
    "from abc import ABC, abstractmethod\n",
    "\n",
    "def print_word(word, formatter):  \n",
    "    if not isinstance(formatter, WordFormatter):\n",
    "        raise TypeError('formatter must be a WordFormatter')\n",
    "        \n",
    "    formatter.headings(word)\n",
    "\n",
    "class WordFormatter(ABC):\n",
    "    @abstractmethod\n",
    "    def headings(self, word):\n",
    "        pass\n",
    "    \n",
    "class UpperWordFormatter(WordFormatter):\n",
    "    def headings(self, word):\n",
    "        print(f'{word.upper()}')\n",
    "        \n",
    "class HTMLWordFormatter(WordFormatter):\n",
    "    def headings(self, word):\n",
    "        print(f'<html>{word}</html>')\n",
    "        \n",
    "class CSVWordFormatter(WordFormatter):\n",
    "    def headings(self, word):\n",
    "        print(f',{word},')\n",
    "        \n",
    "_formatters = {\n",
    "    'upper': UpperWordFormatter,\n",
    "    'csv': CSVWordFormatter,\n",
    "    'html': HTMLWordFormatter\n",
    "}\n",
    "        \n",
    "def create_formatter(name):\n",
    "    formatter = _formatters.get(name)\n",
    "    if not formatter:\n",
    "        raise ValueError(f'Unknown format {name}')\n",
    "    return formatter()"
   ]
  },
  {
   "cell_type": "code",
   "execution_count": 31,
   "metadata": {},
   "outputs": [],
   "source": [
    "formatter = create_formatter('upper')"
   ]
  },
  {
   "cell_type": "code",
   "execution_count": 32,
   "metadata": {},
   "outputs": [
    {
     "name": "stdout",
     "output_type": "stream",
     "text": [
      "HI\n"
     ]
    }
   ],
   "source": [
    "print_word('hi', formatter)"
   ]
  },
  {
   "cell_type": "markdown",
   "metadata": {},
   "source": [
    "## add the class to the dictionary when creating class\n",
    "### problem: but have to do for each class"
   ]
  },
  {
   "cell_type": "code",
   "execution_count": 33,
   "metadata": {},
   "outputs": [],
   "source": [
    "from abc import ABC, abstractmethod\n",
    "\n",
    "def print_word(word, formatter):  \n",
    "    if not isinstance(formatter, WordFormatter):\n",
    "        raise TypeError('formatter must be a WordFormatter')\n",
    "        \n",
    "    formatter.headings(word)\n",
    "\n",
    "class WordFormatter(ABC):\n",
    "    @abstractmethod\n",
    "    def headings(self, word):\n",
    "        pass\n",
    "    \n",
    "_formatters = {}\n",
    "def register_formatter(name, cls):\n",
    "    _formatters[name] = cls\n",
    "    \n",
    "class UpperWordFormatter(WordFormatter):\n",
    "    def headings(self, word):\n",
    "        print(f'{word.upper()}')\n",
    "        \n",
    "register_formatter('upper', UpperWordFormatter)\n",
    "        \n",
    "class HTMLWordFormatter(WordFormatter):\n",
    "    def headings(self, word):\n",
    "        print(f'<html>{word}</html>')\n",
    "        \n",
    "register_formatter('html', HTMLWordFormatter)\n",
    "        \n",
    "class CSVWordFormatter(WordFormatter):\n",
    "    def headings(self, word):\n",
    "        print(f',{word},')\n",
    "        \n",
    "register_formatter('csv', CSVWordFormatter)\n",
    "        \n",
    "        \n",
    "def create_formatter(name):\n",
    "    formatter = _formatters.get(name)\n",
    "    if not formatter:\n",
    "        raise ValueError(f'Unknown format {name}')\n",
    "    return formatter()"
   ]
  },
  {
   "cell_type": "code",
   "execution_count": 34,
   "metadata": {},
   "outputs": [],
   "source": [
    "formatter = create_formatter('upper')"
   ]
  },
  {
   "cell_type": "code",
   "execution_count": 35,
   "metadata": {},
   "outputs": [
    {
     "name": "stdout",
     "output_type": "stream",
     "text": [
      "HI\n"
     ]
    }
   ],
   "source": [
    "print_word('hi', formatter)"
   ]
  },
  {
   "cell_type": "markdown",
   "metadata": {},
   "source": [
    "## use metaclass to solve this issue\n",
    "### injecting a little processing when type creation"
   ]
  },
  {
   "cell_type": "code",
   "execution_count": 39,
   "metadata": {},
   "outputs": [],
   "source": [
    "from abc import ABC, abstractmethod\n",
    "\n",
    "def print_word(word, formatter):  \n",
    "    if not isinstance(formatter, WordFormatter):\n",
    "        raise TypeError('formatter must be a WordFormatter')\n",
    "        \n",
    "    formatter.headings(word)\n",
    "    \n",
    "_formatters = {}\n",
    "\n",
    "class WordMeta(type):\n",
    "    def __init__(cls, clsname, bases, methods):\n",
    "        super().__init__(clsname, bases, methods)\n",
    "        if hasattr(cls, 'name'):\n",
    "            _formatters[cls.name] = cls\n",
    "\n",
    "class WordFormatter(metaclass=WordMeta):\n",
    "    @abstractmethod\n",
    "    def headings(self, word):\n",
    "        pass\n",
    "    \n",
    "class UpperWordFormatter(WordFormatter):\n",
    "    name = 'upper'\n",
    "    def headings(self, word):\n",
    "        print(f'{word.upper()}')\n",
    "        \n",
    "        \n",
    "class HTMLWordFormatter(WordFormatter):\n",
    "    name = 'html'\n",
    "    def headings(self, word):\n",
    "        print(f'<html>{word}</html>')\n",
    "        \n",
    "        \n",
    "class CSVWordFormatter(WordFormatter):\n",
    "    name = 'csv'\n",
    "    def headings(self, word):\n",
    "        print(f',{word},')\n",
    "              \n",
    "        \n",
    "def create_formatter(name):\n",
    "    formatter = _formatters.get(name)\n",
    "    if not formatter:\n",
    "        raise ValueError(f'Unknown format {name}')\n",
    "    return formatter()"
   ]
  },
  {
   "cell_type": "code",
   "execution_count": 40,
   "metadata": {},
   "outputs": [],
   "source": [
    "formatter = create_formatter('upper')"
   ]
  },
  {
   "cell_type": "code",
   "execution_count": 41,
   "metadata": {},
   "outputs": [
    {
     "name": "stdout",
     "output_type": "stream",
     "text": [
      "HI\n"
     ]
    }
   ],
   "source": [
    "print_word('hi', formatter)"
   ]
  },
  {
   "cell_type": "code",
   "execution_count": null,
   "metadata": {},
   "outputs": [],
   "source": []
  }
 ],
 "metadata": {
  "kernelspec": {
   "display_name": "Python 3",
   "language": "python",
   "name": "python3"
  },
  "language_info": {
   "codemirror_mode": {
    "name": "ipython",
    "version": 3
   },
   "file_extension": ".py",
   "mimetype": "text/x-python",
   "name": "python",
   "nbconvert_exporter": "python",
   "pygments_lexer": "ipython3",
   "version": "3.7.5"
  }
 },
 "nbformat": 4,
 "nbformat_minor": 2
}
